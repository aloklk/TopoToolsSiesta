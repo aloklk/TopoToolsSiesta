{
 "cells": [
  {
   "cell_type": "code",
   "execution_count": 1,
   "metadata": {},
   "outputs": [],
   "source": [
    "import sisl\n",
    "import numpy as np\n",
    "import matplotlib.pyplot as plt\n",
    "from matplotlib.collections import LineCollection\n",
    "%matplotlib inline"
   ]
  },
  {
   "cell_type": "markdown",
   "metadata": {},
   "source": [
    "# TI-01 Spin Texture \n",
    "In this exercise, we learn how to calculate and plot spin-textures using ```sisl``` and ```SIESTA```, using buckled hexagonal bismuthene as an example.\n",
    "\n",
    "## Exercise Overview\n",
    "1. Create bismuthene geometry.\n",
    "2. Generate ```SIESTA``` Hamiltonian.\n",
    "3. Calculate the band structure.\n",
    "4. Calculate the spin texture.\n",
    "\n",
    "## Exercise\n",
    "\n",
    "#### 1. Create the geometry in ``sisl`` and save it.\n",
    "We will consider bismuthene in a buckled hexagonal phase. This crystal structure is similar to that of graphene, with two atoms per unit cell. However, the two sublattices form two parallel planes, separated by the buckling height $h$.\n",
    "We will use an in-plane lattice constant $a$ of $4.60\\mathring{\\textrm{A}}$ and buckling height $h$ of $1.62\\mathring{\\textrm{A}}$. The lattice constant for the orthogonal direction $c$ can be large, e.g. $40\\mathring{\\textrm{A}}$.\n",
    "\n",
    "|Top view |Side View |\n",
    "|:--------|:---------|\n",
    "|<img src=\"img/Bi2D-BHex-c.png\" alt=\"BHex-c\" style=\"width: 400px;\"/>|<img src=\"img/Bi2D-BHex-a.png\" alt=\"BHex-a\" style=\"width: 400px;\"/>|"
   ]
  },
  {
   "cell_type": "code",
   "execution_count": 2,
   "metadata": {},
   "outputs": [],
   "source": [
    "# Lattice constants\n",
    "a = 4.60\n",
    "c = 40.0\n",
    "# Lattice vectors\n",
    "a1 = a * np.asarray([1., 0., 0.])\n",
    "a2 = a * np.asarray([-1./2, np.sqrt(3)/2, 0.])\n",
    "a3 = c * np.asarray([0., 0., 1.])\n",
    "# Atomic_positions\n",
    "xyz = [\n",
    "    0 * a1,                                 # Atom 1\n",
    "    2./3 * a1 + 1./3 * a2 + [0., 0., 1.62]  # Atom 2\n",
    "]\n",
    "# Create geometry \n",
    "geom = sisl.Geometry([xyz], sc=sisl.SuperCell([a1,a2,a3]), atom=sisl.Atom('Bi'))\n",
    "geom.write('STRUC.fdf')"
   ]
  },
  {
   "cell_type": "markdown",
   "metadata": {},
   "source": [
    "#### 2. Generate SIESTA Hamiltonian\n",
    "A sample input file for ``SIESTA`` can be found in the *siesta_work* folder. We refer to the manual (/Docs/siesta.pdf) for the description of input parameters. The ``SIESTA`` Hamiltonian is required to compute the spin texture. ``SIESTA`` will store it if the flag ``CDF.Save``, ``SaveHS``, or ``TS.HS.Save`` is set to ```true``` in the input file.\n",
    "```\n",
    "    siesta Bi2D_BHex.fdf > Bi2D_BHex.out\n",
    "```\n",
    "We can check the output file to ensure that the calculation converged and no errors occurred.\n",
    "\n",
    "_Notes:_\n",
    "Depending on which flag was used to write the Hamiltonian ``SIESTA`` produces different output files. We have to keep in mind that the ``SystemLabel.HSX`` file (create with ``SaveHS True``) does not contain all the information needed for the following steps. In addition, we will require\n",
    "- ``SystemLabel.ORB_INDX`` for information on the Basis and auxiliary super cell,\n",
    "- ``SystemLabel.EIG`` for the Fermi level,\n",
    "- ``SystemLabel.XV`` or ``*.fdf`` for the geometry.\n",
    "\n",
    "This becomes relevant when we copy files selectively, e.g. from an HPC machine."
   ]
  },
  {
   "cell_type": "markdown",
   "metadata": {},
   "source": [
    "#### 3 Bandstructure\n",
    "\n",
    "We now use ```sisl``` to calculate the band structure along the $M$-$\\Gamma$-$K$-$M$ path, reading the ```SIESTA``` Hamiltonian (Bi2D_BHex.HSX or Bi2D_BHex.TSHS). \n",
    "\n",
    "*Notes:*\n",
    "- [seeK-path](https://www.materialscloud.org/work/tools/seekpath) can be used to find the k-point path in the Brillouin Zone.\n",
    "- ```sisl``` can save the geometry in different file formats, the ```xsf``` format is compatible with seeK-path\n",
    "- seeK-path uses a standardized unit cell. The displayed k-points refer to the reciprocal cell corresponding to this standardized cell, not to the original one."
   ]
  },
  {
   "cell_type": "code",
   "execution_count": 37,
   "metadata": {},
   "outputs": [],
   "source": [
    "# Read the Hamiltonian from siesta output and create sisl.BandStructure\n",
    "sile = sisl.get_sile('siesta_work/Bi2D_BHex.fdf')\n",
    "H = sile.read_hamiltonian()\n",
    "EFermi = sile.read_fermi_level()\n",
    "\n",
    "kpath = sisl.BandStructure(H, point=[[1./2, 0., 0.], [0., 0., 0.],\n",
    "                                     [1./3, 1./3, 0.], [1./2, 0., 0.]],\n",
    "                           division=301,\n",
    "                           name=['M', r'$\\Gamma$', 'K', 'M'])"
   ]
  },
  {
   "cell_type": "code",
   "execution_count": 38,
   "metadata": {},
   "outputs": [],
   "source": [
    "# Calculate the bands\n",
    "lk = kpath.lineark()\n",
    "xtick, xtick_label = kpath.lineartick()\n",
    "bands = kpath.eigh()\n",
    "nk, nbands = bands.shape"
   ]
  },
  {
   "cell_type": "code",
   "execution_count": 39,
   "metadata": {},
   "outputs": [
    {
     "data": {
      "image/png": "[encoded data removed]",
      "text/plain": [
       "<Figure size 576x648 with 1 Axes>"
      ]
     },
     "metadata": {
      "needs_background": "light"
     },
     "output_type": "display_data"
    }
   ],
   "source": [
    "# Plot the band structure\n",
    "fig, ax = plt.subplots(1, 1, figsize=(8,9))\n",
    "ymin, ymax = (-2, 2)\n",
    "\n",
    "for ibnd in range(nbands):\n",
    "    ax.plot(lk, bands[:, ibnd], 'b')\n",
    "\n",
    "ax.set_xlim(min(lk), max(lk))\n",
    "ax.set_ylim(ymin, ymax)\n",
    "ax.xaxis.set_ticks(xtick)\n",
    "ax.set_xticklabels(xtick_label)\n",
    "for tick in xtick:\n",
    "    ax.plot([tick, tick], [ymin, ymax], 'k')\n",
    "    "
   ]
  },
  {
   "cell_type": "markdown",
   "metadata": {},
   "source": [
    "#### 4 Spin Texture\n",
    "\n",
    "The spin moment of a state $\\psi$ is given by the expectation value of the angular momentum operator $\\langle\\psi|\\vec{\\boldsymbol{\\mathcal{S}}}|\\psi\\rangle$. It is a three-dimensional vector and we can express its components in terms of the Pauli matrices $\\sigma_x$, $\\sigma_y$, $\\sigma_z$, and the overlap matrix $\\mathbf{S}$ as\n",
    "\n",
    "\\begin{align}\n",
    "    \\boldsymbol{\\mathcal S}_x &= \\langle\\psi| \\sigma_x \\mathbf{S} | \\psi\\rangle\\\\\n",
    "    \\boldsymbol{\\mathcal S}_y &= \\langle\\psi| \\sigma_y \\mathbf{S} | \\psi\\rangle\\\\\n",
    "    \\boldsymbol{\\mathcal S}_z &= \\langle\\psi| \\sigma_z \\mathbf{S} | \\psi\\rangle.\n",
    "\\end{align}\n",
    "\n",
    "In a periodic system, we define the band structure as the dispersion of the eigenenergies in reciprocal space. Analogously, we define spin texture as the dispersion of the spin moments of the eigenstates.\n",
    "\n",
    "We perform the following three steps, to calculate the spin texture along a path in reciprocal space:\n",
    "\n",
    "1. Calculate the eigenstates for a k-point\n",
    "\n",
    "   We use the ``eigenstate`` routine of our  ``sisl.Hamiltonian`` to calculate all eigenstates at the given k-point. The routine returns an [``EigenstateElectron``](http://zerothi.github.io/sisl/docs/latest/api-generated/sisl.physics.EigenstateElectron.html) object, which contains all the eigenvectors and eigenvalues. This object also holds routines that enable the calculation of (projected) density of states, spin moments.\n",
    "   ```\n",
    "   H = sisl.Hamiltonian(...)\n",
    "   eigs = H.eigenstate(k=[...])\n",
    "   ```\n",
    "\n",
    "2. Calculate the spin moments of the eigenstates\n",
    "\n",
    "   The spin moments of the eigenstates can be calculated with the [``spin_moment``](http://zerothi.github.io/sisl/docs/latest/api-generated/sisl.physics.EigenstateElectron.html#sisl.physics.EigenstateElectron.spin_moment) routine.\n",
    "   - All eigenstates at once:\n",
    "   ```\n",
    "   eigs.spin_moment()\n",
    "   ```\n",
    "   - A single state\n",
    "   ```\n",
    "   eigs[i].spin_moment()\n",
    "   ```\n",
    "\n",
    "3. Calculate the spin texture\n",
    "\n",
    "   To calculate the full spin texture we loop over all k-points and repeatedly perform the steps 1 and 2.\n",
    "   ```\n",
    "   kpath = sisl.BandStructure(H, ...)\n",
    "   for ik, k in enumerate(kpath):\n",
    "      # Perform steps 1 and 2\n",
    "      ...\n",
    "   ```\n",
    "\n",
    "*Side note*:\n",
    "\n",
    "There is a very compact way to calculate the spin texture using\n",
    " - the ``call`` subroutine of a ``sisl.BrillouinZone`` or ``sisl.BandStructure`` object to evaluate a function for all k-points and\n",
    " - the short-hand ``H.spin_moment`` to perform steps 1 and 2 in one call.\n",
    " \n",
    "This compact solution is not superior in performance. It merely "
   ]
  },
  {
   "cell_type": "code",
   "execution_count": null,
   "metadata": {},
   "outputs": [],
   "source": [
    "# Calculate the spin moments for all eigenstates along the k-path.\n",
    "spin_moments = np.zeros((len(kpath), len(H), 3))\n",
    "for ik, k in enumerate(kpath):\n",
    "  eigs = H.eigenstate(k)\n",
    "  spin_moments[ik] = eigs.spin_moment()\n",
    "\n",
    "# Compact way to calculate the spin texture\n",
    "spin_moments = kpath.call(H.spin_moment)"
   ]
  },
  {
   "cell_type": "markdown",
   "metadata": {},
   "source": [
    "A convient way to visualize the spin texture is coloring the bands according to the spin moment. The template below can be used to plot the spin texture. \n",
    "\n",
    "For reference on how to create multi coloured lines refer to the matplotlib [documentation](https://matplotlib.org/3.1.1/gallery/lines_bars_and_markers/multicolored_line.html)."
   ]
  },
  {
   "cell_type": "code",
   "execution_count": null,
   "metadata": {
    "scrolled": false
   },
   "outputs": [],
   "source": [
    "def plot_spin_texture(kpath, bands, spin_moments):    \n",
    "    lk = kpath.lineark()\n",
    "    xtick, xtick_label = kpath.lineartick()    \n",
    "    nk, nbands = bands.shape\n",
    "    \n",
    "    # Create a figure with three subplot one for each component of the spin moment\n",
    "    fig, axes = plt.subplots(1, 3, figsize=(16, 9), dpi=300, sharex=True, sharey=True)\n",
    "\n",
    "    # Set the range of z-values, which will determine the color.\n",
    "    norm = plt.Normalize(-1, 1)\n",
    "\n",
    "    # Iterate of the spin components\n",
    "    for icomp, component in enumerate(['$S_x$', '$S_y$', '$S_z$']):\n",
    "        # Iterate over all bands \n",
    "        for ibnd in range(nbands):\n",
    "            # It is not possible to change the color of a line directly, so we create small \n",
    "            # line segements from one point on the x-axis to the next. These segments can \n",
    "            # then be colored individually.\n",
    "            points = np.array([lk, bands[:, ibnd]]).T.reshape(-1, 1, 2)\n",
    "            segments = np.concatenate([points[:-1], points[1:]], axis=1)\n",
    "            # Create a collection of the segments and specify a map that assigns colors \n",
    "            # to the segments according to the z-value\n",
    "            lc = LineCollection(segments, cmap='coolwarm', norm=norm)\n",
    "            # Set the z-values \n",
    "            lc.set_array(spin_moments[:, ibnd, icomp])             \n",
    "            lc.set_linewidth(3)\n",
    "\n",
    "            # Add the LineCollection to the subplot\n",
    "            line = axes[icomp].add_collection(lc)\n",
    "            \n",
    "        axes[icomp].set_title(component)\n",
    "\n",
    "    # All subplots share the same axis settings, so we can just adjust them once     \n",
    "    ymin, ymax = (-2, 2)\n",
    "    axes[0].set_xlim(min(lk), max(lk))\n",
    "    axes[0].set_ylim(ymin, ymax) \n",
    "    axes[0].set_ylabel('Eigenspectrum [eV]')\n",
    "    axes[0].xaxis.set_ticks(xtick)\n",
    "    axes[0].set_xticklabels(xtick_label)\n",
    "\n",
    "    for axis in axes:\n",
    "        for tick in xtick:\n",
    "            axis.plot([tick, tick], [ymin, ymax], 'k', linewidth=0.5)\n",
    "    \n",
    "    # Add a colorbar to the plot\n",
    "    fig.colorbar(line, ax=axes.ravel().tolist())\n",
    "    plt.show()"
   ]
  },
  {
   "cell_type": "code",
   "execution_count": null,
   "metadata": {},
   "outputs": [],
   "source": [
    "plot_spin_texture(kpath, bands - EFermi, spin_moments)"
   ]
  },
  {
   "cell_type": "markdown",
   "metadata": {},
   "source": [
    "What happens when every other band is plotted, instead of all of them at the same time? Why?"
   ]
  },
  {
   "cell_type": "markdown",
   "metadata": {},
   "source": [
    "Bands with even indices:"
   ]
  },
  {
   "cell_type": "code",
   "execution_count": null,
   "metadata": {},
   "outputs": [],
   "source": [
    "plot_spin_texture(kpath, bands[:,::2] - EFermi, spin_moments[:,::2])"
   ]
  },
  {
   "cell_type": "markdown",
   "metadata": {},
   "source": [
    "Bands with odd indices:"
   ]
  },
  {
   "cell_type": "code",
   "execution_count": null,
   "metadata": {},
   "outputs": [],
   "source": [
    "plot_spin_texture(kpath, bands[:,1::2] - EFermi, spin_moments[:,1::2])"
   ]
  },
  {
   "cell_type": "markdown",
   "metadata": {},
   "source": [
    "The system is time-reversal invariant. Therefore, all states appear in degenrate Kramer pairs. The two states forming the Kramer pair are mapped onto each other by the time-reversal operator $T$. Since, $T$ flips the spin of any state, the two states in every pair carry opposite spins."
   ]
  },
  {
   "cell_type": "markdown",
   "metadata": {},
   "source": [
    "We can see that the sum of the spin moments are indeed zero:"
   ]
  },
  {
   "cell_type": "code",
   "execution_count": null,
   "metadata": {},
   "outputs": [],
   "source": [
    "plot_spin_texture(kpath, bands[:,::2] - EFermi, spin_moments[:,0::2]+spin_moments[:,1::2])"
   ]
  },
  {
   "cell_type": "code",
   "execution_count": null,
   "metadata": {},
   "outputs": [],
   "source": []
  }
 ],
 "metadata": {
  "kernelspec": {
   "display_name": "Python 3",
   "language": "python",
   "name": "python3"
  },
  "language_info": {
   "codemirror_mode": {
    "name": "ipython",
    "version": 3
   },
   "file_extension": ".py",
   "mimetype": "text/x-python",
   "name": "python",
   "nbconvert_exporter": "python",
   "pygments_lexer": "ipython3",
   "version": "3.7.6"
  }
 },
 "nbformat": 4,
 "nbformat_minor": 2
}
