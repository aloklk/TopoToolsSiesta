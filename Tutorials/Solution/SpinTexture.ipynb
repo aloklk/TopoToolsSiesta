{
 "cells": [
  {
   "cell_type": "code",
   "execution_count": 1,
   "metadata": {},
   "outputs": [],
   "source": [
    "import sisl\n",
    "import numpy as np\n",
    "import matplotlib.pyplot as plt\n",
    "from matplotlib.collections import LineCollection\n",
    "%matplotlib inline"
   ]
  },
  {
   "cell_type": "markdown",
   "metadata": {},
   "source": [
    "# TI-01 Spin Texture \n",
    "In this exercise, we learn how to calculate and plot spin-textures using ```sisl``` and ```SIESTA```, using buckled hexagonal bismuthene as an example.\n",
    "\n",
    "## Exercise Overview\n",
    "1. Create bismuthene geometry.\n",
    "2. Generate ```SIESTA``` Hamiltonian.\n",
    "3. Calculate the band structure.\n",
    "4. Calculate the spin texture.\n",
    "\n",
    "## Exercise\n",
    "\n",
    "#### 1. Create the geometry in ``sisl`` and save it.\n",
    "We will consider bismuthene in a buckled hexagonal phase. This crystal structure is similar to that of graphene, with two atoms per unit cell. However, the two sublattices form two parallel planes, separated by the buckling height $h$.\n",
    "We will use an in-plane lattice constant $a$ of $4.60\\mathring{\\textrm{A}}$ and buckling height $h$ of $1.62\\mathring{\\textrm{A}}$. The lattice constant for the orthogonal direction $c$ can be large, e.g. $40\\mathring{\\textrm{A}}$.\n",
    "\n",
    "|Top view |Side View |\n",
    "|:--------|:---------|\n",
    "|<img src=\"img/Bi2D-BHex-c.png\" alt=\"BHex-c\" style=\"width: 400px;\"/>|<img src=\"img/Bi2D-BHex-a.png\" alt=\"BHex-a\" style=\"width: 400px;\"/>|"
   ]
  },
  {
   "cell_type": "code",
   "execution_count": 2,
   "metadata": {},
   "outputs": [],
   "source": [
    "# Lattice constants\n",
    "a = 4.60\n",
    "c = 40.0\n",
    "# Lattice vectors\n",
    "a1 = a * np.asarray([1., 0., 0.])\n",
    "a2 = a * np.asarray([-1./2, np.sqrt(3)/2, 0.])\n",
    "a3 = c * np.asarray([0., 0., 1.])\n",
    "# Atomic_positions\n",
    "xyz = [\n",
    "    0 * a1,                                 # Atom 1\n",
    "    2./3 * a1 + 1./3 * a2 + [0., 0., 1.62]  # Atom 2\n",
    "]\n",
    "# Create geometry \n",
    "geom = sisl.Geometry([xyz], sc=sisl.SuperCell([a1,a2,a3]), atom=sisl.Atom('Bi'))\n",
    "geom.write('STRUC.fdf')"
   ]
  },
  {
   "cell_type": "markdown",
   "metadata": {},
   "source": [
    "#### 2. Generate SIESTA Hamiltonian\n",
    "A sample input file for ```SIESTA``` can be found in the *siesta_work* folder. If there are any unfamiliar flags in the input file, the manual (/Docs/siesta.pdf) can offer explanations. For the next steps the ```SIESTA``` Hamiltonian is required. So, we have to make sure that ```SIESTA``` will store it by using the flag SaveHS True or TS.HS.Save True in the input file. \n",
    "```\n",
    "    siesta Bi2D_BHex.fdf > Bi2D_BHex.out\n",
    "```\n",
    "We can check the output file to ensure that the calculation converged and no errors occured."
   ]
  },
  {
   "cell_type": "markdown",
   "metadata": {},
   "source": [
    "#### 3 Bandstructure\n",
    "\n",
    "Use ```sisl``` to calculate the band structure along the $M$-$\\Gamma$-$K$-$M$ path, using the ```SIESTA``` Hamiltonian (Bi2D_BHex.HSX). If necessary, [seeK-path](https://www.materialscloud.org/work/tools/seekpath) can help finding the right k-point path in the Brillouin Zone.\n",
    "\n",
    "*Note: seeK-path uses a standartized unit cell. The displayed k-points refer to the reciprocal cell corresponding to this standartized cell not the original one.*"
   ]
  },
  {
   "cell_type": "code",
   "execution_count": 3,
   "metadata": {},
   "outputs": [],
   "source": [
    "# Read the Hamiltonian from siesta output and create sisl.BandStructure\n",
    "sile = sisl.get_sile('siesta_work/Bi2D_BHex.fdf')\n",
    "H = sile.read_hamiltonian(geometry=sile.read_geometry())\n",
    "EFermi = sile.read_fermi_level()\n",
    "\n",
    "kpath = sisl.BandStructure(H, point=[[1./2, 0., 0.], [0., 0., 0.],\n",
    "                                     [1./3, 1./3, 0.], [1./2, 0., 0.]],\n",
    "                           division=301,\n",
    "                           name=['M', r'$\\Gamma$', 'K', 'M'])"
   ]
  },
  {
   "cell_type": "code",
   "execution_count": 4,
   "metadata": {},
   "outputs": [
    {
     "ename": "LinAlgError",
     "evalue": "the leading minor of order 1 of 'b' is not positive definite. The factorization of 'b' could not be completed and no eigenvalues or eigenvectors were computed.",
     "output_type": "error",
     "traceback": [
      "\u001b[0;31m---------------------------------------------------------------------------\u001b[0m",
      "\u001b[0;31mLinAlgError\u001b[0m                               Traceback (most recent call last)",
      "\u001b[0;32m<ipython-input-4-8cb90d356b88>\u001b[0m in \u001b[0;36m<module>\u001b[0;34m\u001b[0m\n\u001b[1;32m      2\u001b[0m \u001b[0mlk\u001b[0m \u001b[0;34m=\u001b[0m \u001b[0mkpath\u001b[0m\u001b[0;34m.\u001b[0m\u001b[0mlineark\u001b[0m\u001b[0;34m(\u001b[0m\u001b[0;34m)\u001b[0m\u001b[0;34m\u001b[0m\u001b[0m\n\u001b[1;32m      3\u001b[0m \u001b[0mxtick\u001b[0m\u001b[0;34m,\u001b[0m \u001b[0mxtick_label\u001b[0m \u001b[0;34m=\u001b[0m \u001b[0mkpath\u001b[0m\u001b[0;34m.\u001b[0m\u001b[0mlineartick\u001b[0m\u001b[0;34m(\u001b[0m\u001b[0;34m)\u001b[0m\u001b[0;34m\u001b[0m\u001b[0m\n\u001b[0;32m----> 4\u001b[0;31m \u001b[0mbands\u001b[0m \u001b[0;34m=\u001b[0m \u001b[0mkpath\u001b[0m\u001b[0;34m.\u001b[0m\u001b[0meigh\u001b[0m\u001b[0;34m(\u001b[0m\u001b[0;34m)\u001b[0m\u001b[0;34m\u001b[0m\u001b[0m\n\u001b[0m\u001b[1;32m      5\u001b[0m \u001b[0mnk\u001b[0m\u001b[0;34m,\u001b[0m \u001b[0mnbands\u001b[0m \u001b[0;34m=\u001b[0m \u001b[0mbands\u001b[0m\u001b[0;34m.\u001b[0m\u001b[0mshape\u001b[0m\u001b[0;34m\u001b[0m\u001b[0m\n",
      "\u001b[0;32m/usr/local/lib/python3.7/site-packages/sisl/physics/brillouinzone.py\u001b[0m in \u001b[0;36m__call__\u001b[0;34m(self, *args, **kwargs)\u001b[0m\n\u001b[1;32m    840\u001b[0m         \u001b[0;32mexcept\u001b[0m \u001b[0mException\u001b[0m\u001b[0;34m:\u001b[0m\u001b[0;34m\u001b[0m\u001b[0m\n\u001b[1;32m    841\u001b[0m             \u001b[0;32mraise\u001b[0m \u001b[0mNotImplementedError\u001b[0m\u001b[0;34m(\u001b[0m\u001b[0;34m\"Could not call the object it self\"\u001b[0m\u001b[0;34m)\u001b[0m\u001b[0;34m\u001b[0m\u001b[0m\n\u001b[0;32m--> 842\u001b[0;31m         \u001b[0;32mreturn\u001b[0m \u001b[0mcall\u001b[0m\u001b[0;34m(\u001b[0m\u001b[0;34m*\u001b[0m\u001b[0margs\u001b[0m\u001b[0;34m,\u001b[0m \u001b[0;34m**\u001b[0m\u001b[0mkwargs\u001b[0m\u001b[0;34m)\u001b[0m\u001b[0;34m\u001b[0m\u001b[0m\n\u001b[0m\u001b[1;32m    843\u001b[0m \u001b[0;34m\u001b[0m\u001b[0m\n\u001b[1;32m    844\u001b[0m     \u001b[0;32mdef\u001b[0m \u001b[0miter\u001b[0m\u001b[0;34m(\u001b[0m\u001b[0mself\u001b[0m\u001b[0;34m,\u001b[0m \u001b[0mret_weight\u001b[0m\u001b[0;34m=\u001b[0m\u001b[0;32mFalse\u001b[0m\u001b[0;34m)\u001b[0m\u001b[0;34m:\u001b[0m\u001b[0;34m\u001b[0m\u001b[0m\n",
      "\u001b[0;32m/usr/local/lib/python3.7/site-packages/sisl/physics/brillouinzone.py\u001b[0m in \u001b[0;36m_call\u001b[0;34m(self, *args, **kwargs)\u001b[0m\n\u001b[1;32m    502\u001b[0m                 \u001b[0mv\u001b[0m \u001b[0;34m=\u001b[0m \u001b[0mwrap\u001b[0m\u001b[0;34m(\u001b[0m\u001b[0mfunc\u001b[0m\u001b[0;34m(\u001b[0m\u001b[0;34m*\u001b[0m\u001b[0margs\u001b[0m\u001b[0;34m,\u001b[0m \u001b[0mk\u001b[0m\u001b[0;34m=\u001b[0m\u001b[0mk\u001b[0m\u001b[0;34m[\u001b[0m\u001b[0;36m0\u001b[0m\u001b[0;34m]\u001b[0m\u001b[0;34m,\u001b[0m \u001b[0;34m**\u001b[0m\u001b[0mkwargs\u001b[0m\u001b[0;34m)\u001b[0m\u001b[0;34m,\u001b[0m \u001b[0mparent\u001b[0m\u001b[0;34m=\u001b[0m\u001b[0mparent\u001b[0m\u001b[0;34m,\u001b[0m \u001b[0mk\u001b[0m\u001b[0;34m=\u001b[0m\u001b[0mk\u001b[0m\u001b[0;34m[\u001b[0m\u001b[0;36m0\u001b[0m\u001b[0;34m]\u001b[0m\u001b[0;34m,\u001b[0m \u001b[0mweight\u001b[0m\u001b[0;34m=\u001b[0m\u001b[0mw\u001b[0m\u001b[0;34m[\u001b[0m\u001b[0;36m0\u001b[0m\u001b[0;34m]\u001b[0m\u001b[0;34m)\u001b[0m\u001b[0;34m\u001b[0m\u001b[0m\n\u001b[1;32m    503\u001b[0m             \u001b[0;32melse\u001b[0m\u001b[0;34m:\u001b[0m\u001b[0;34m\u001b[0m\u001b[0m\n\u001b[0;32m--> 504\u001b[0;31m                 \u001b[0mv\u001b[0m \u001b[0;34m=\u001b[0m \u001b[0mfunc\u001b[0m\u001b[0;34m(\u001b[0m\u001b[0;34m*\u001b[0m\u001b[0margs\u001b[0m\u001b[0;34m,\u001b[0m \u001b[0mk\u001b[0m\u001b[0;34m=\u001b[0m\u001b[0mk\u001b[0m\u001b[0;34m[\u001b[0m\u001b[0;36m0\u001b[0m\u001b[0;34m]\u001b[0m\u001b[0;34m,\u001b[0m \u001b[0;34m**\u001b[0m\u001b[0mkwargs\u001b[0m\u001b[0;34m)\u001b[0m\u001b[0;34m\u001b[0m\u001b[0m\n\u001b[0m\u001b[1;32m    505\u001b[0m             \u001b[0;32mif\u001b[0m \u001b[0mv\u001b[0m\u001b[0;34m.\u001b[0m\u001b[0mndim\u001b[0m \u001b[0;34m==\u001b[0m \u001b[0;36m0\u001b[0m\u001b[0;34m:\u001b[0m\u001b[0;34m\u001b[0m\u001b[0m\n\u001b[1;32m    506\u001b[0m                 \u001b[0ma\u001b[0m \u001b[0;34m=\u001b[0m \u001b[0mnp\u001b[0m\u001b[0;34m.\u001b[0m\u001b[0mempty\u001b[0m\u001b[0;34m(\u001b[0m\u001b[0;34m[\u001b[0m\u001b[0mlen\u001b[0m\u001b[0;34m(\u001b[0m\u001b[0mself\u001b[0m\u001b[0;34m)\u001b[0m\u001b[0;34m]\u001b[0m\u001b[0;34m,\u001b[0m \u001b[0mdtype\u001b[0m\u001b[0;34m=\u001b[0m\u001b[0mv\u001b[0m\u001b[0;34m.\u001b[0m\u001b[0mdtype\u001b[0m\u001b[0;34m)\u001b[0m\u001b[0;34m\u001b[0m\u001b[0m\n",
      "\u001b[0;32m/usr/local/lib/python3.7/site-packages/sisl/physics/sparse.py\u001b[0m in \u001b[0;36meigh\u001b[0;34m(self, k, gauge, eigvals_only, **kwargs)\u001b[0m\n\u001b[1;32m    854\u001b[0m \u001b[0;34m\u001b[0m\u001b[0m\n\u001b[1;32m    855\u001b[0m         \u001b[0mS\u001b[0m \u001b[0;34m=\u001b[0m \u001b[0mself\u001b[0m\u001b[0;34m.\u001b[0m\u001b[0mSk\u001b[0m\u001b[0;34m(\u001b[0m\u001b[0mk\u001b[0m\u001b[0;34m=\u001b[0m\u001b[0mk\u001b[0m\u001b[0;34m,\u001b[0m \u001b[0mdtype\u001b[0m\u001b[0;34m=\u001b[0m\u001b[0mdtype\u001b[0m\u001b[0;34m,\u001b[0m \u001b[0mgauge\u001b[0m\u001b[0;34m=\u001b[0m\u001b[0mgauge\u001b[0m\u001b[0;34m,\u001b[0m \u001b[0mformat\u001b[0m\u001b[0;34m=\u001b[0m\u001b[0;34m'array'\u001b[0m\u001b[0;34m)\u001b[0m\u001b[0;34m\u001b[0m\u001b[0m\n\u001b[0;32m--> 856\u001b[0;31m         \u001b[0;32mreturn\u001b[0m \u001b[0mlin\u001b[0m\u001b[0;34m.\u001b[0m\u001b[0meigh_destroy\u001b[0m\u001b[0;34m(\u001b[0m\u001b[0mP\u001b[0m\u001b[0;34m,\u001b[0m \u001b[0mS\u001b[0m\u001b[0;34m,\u001b[0m \u001b[0meigvals_only\u001b[0m\u001b[0;34m=\u001b[0m\u001b[0meigvals_only\u001b[0m\u001b[0;34m,\u001b[0m \u001b[0;34m**\u001b[0m\u001b[0mkwargs\u001b[0m\u001b[0;34m)\u001b[0m\u001b[0;34m\u001b[0m\u001b[0m\n\u001b[0m\u001b[1;32m    857\u001b[0m \u001b[0;34m\u001b[0m\u001b[0m\n\u001b[1;32m    858\u001b[0m     \u001b[0;32mdef\u001b[0m \u001b[0meigsh\u001b[0m\u001b[0;34m(\u001b[0m\u001b[0mself\u001b[0m\u001b[0;34m,\u001b[0m \u001b[0mk\u001b[0m\u001b[0;34m=\u001b[0m\u001b[0;34m(\u001b[0m\u001b[0;36m0\u001b[0m\u001b[0;34m,\u001b[0m \u001b[0;36m0\u001b[0m\u001b[0;34m,\u001b[0m \u001b[0;36m0\u001b[0m\u001b[0;34m)\u001b[0m\u001b[0;34m,\u001b[0m \u001b[0mn\u001b[0m\u001b[0;34m=\u001b[0m\u001b[0;36m10\u001b[0m\u001b[0;34m,\u001b[0m \u001b[0mgauge\u001b[0m\u001b[0;34m=\u001b[0m\u001b[0;34m'R'\u001b[0m\u001b[0;34m,\u001b[0m \u001b[0meigvals_only\u001b[0m\u001b[0;34m=\u001b[0m\u001b[0;32mTrue\u001b[0m\u001b[0;34m,\u001b[0m \u001b[0;34m**\u001b[0m\u001b[0mkwargs\u001b[0m\u001b[0;34m)\u001b[0m\u001b[0;34m:\u001b[0m\u001b[0;34m\u001b[0m\u001b[0m\n",
      "\u001b[0;32m/usr/local/lib/python3.7/site-packages/scipy/linalg/decomp.py\u001b[0m in \u001b[0;36meigh\u001b[0;34m(a, b, lower, eigvals_only, overwrite_a, overwrite_b, turbo, eigvals, type, check_finite)\u001b[0m\n\u001b[1;32m    491\u001b[0m                           \u001b[0;34m\" factorization of 'b' could not be completed\"\u001b[0m\u001b[0;34m\u001b[0m\u001b[0m\n\u001b[1;32m    492\u001b[0m                           \u001b[0;34m\" and no eigenvalues or eigenvectors were\"\u001b[0m\u001b[0;34m\u001b[0m\u001b[0m\n\u001b[0;32m--> 493\u001b[0;31m                           \" computed.\" % (info-b1.shape[0]))\n\u001b[0m\u001b[1;32m    494\u001b[0m \u001b[0;34m\u001b[0m\u001b[0m\n\u001b[1;32m    495\u001b[0m \u001b[0;34m\u001b[0m\u001b[0m\n",
      "\u001b[0;31mLinAlgError\u001b[0m: the leading minor of order 1 of 'b' is not positive definite. The factorization of 'b' could not be completed and no eigenvalues or eigenvectors were computed."
     ]
    }
   ],
   "source": [
    "# Calculate the bands\n",
    "lk = kpath.lineark()\n",
    "xtick, xtick_label = kpath.lineartick()\n",
    "bands = kpath.eigh()\n",
    "nk, nbands = bands.shape"
   ]
  },
  {
   "cell_type": "code",
   "execution_count": null,
   "metadata": {},
   "outputs": [],
   "source": [
    "# Plot the band structure\n",
    "fig, ax = plt.subplots(1, 1, figsize=(8,9))\n",
    "ymin, ymax = (-2, 2)\n",
    "\n",
    "for ibnd in range(nbands):\n",
    "    ax.plot(lk, bands[:, ibnd] - EFermi, 'b')\n",
    "\n",
    "ax.set_xlim(min(lk), max(lk))\n",
    "ax.set_ylim(ymin, ymax)\n",
    "ax.xaxis.set_ticks(xtick)\n",
    "ax.set_xticklabels(xtick_label)\n",
    "for tick in xtick:\n",
    "    ax.plot([tick, tick], [ymin, ymax], 'k')\n",
    "    "
   ]
  },
  {
   "cell_type": "markdown",
   "metadata": {},
   "source": [
    "#### 4 Spin Texture\n",
    "\n",
    "Calculate the spin texture, i.e. the spin moment of the eigenstates, along the same k-path as in 3.\n",
    "\n",
    "1. The spin moment for a given k-point can be calculated with sisl, using the ```spin_moments``` routine See [```sisl.physics.Hamiltonian.spin_moment```](http://zerothi.github.io/sisl/docs/latest/api-generated/sisl.physics.Hamiltonian.html?highlight=spin_moment#sisl.physics.Hamiltonian.spin_moment).\n",
    "```\n",
    ">>> H = Hamiltonian(...)\n",
    ">>> Sx, Sy, Sz = H.spin_moment().T\n",
    "```\n",
    "2. The ``sisl.BrillouinZone`` or ``sisl.BandStructure`` object can be used evaulate functions for all k-points. Using the ```call``` routine:\n",
    "```\n",
    ">>> H = Hamiltonian(...)\n",
    ">>> bz = BrillouinZone(H)\n",
    ">>> bz.eigh() == bz.call(H.eigh)\n",
    "```"
   ]
  },
  {
   "cell_type": "code",
   "execution_count": null,
   "metadata": {},
   "outputs": [],
   "source": [
    "# Calculate the spin moments for all eigenstates along the k-path.\n",
    "spin_moments = kpath.call(H.spin_moment)"
   ]
  },
  {
   "cell_type": "markdown",
   "metadata": {},
   "source": [
    "A convient way to visualize the spin texture is coloring the bands according to the spin moment. The template below can be used to plot the spin texture. \n",
    "\n",
    "_For reference on how to create multi coloured lines refer to the matplotlib [documentation](https://matplotlib.org/3.1.1/gallery/lines_bars_and_markers/multicolored_line.html)._"
   ]
  },
  {
   "cell_type": "code",
   "execution_count": null,
   "metadata": {
    "scrolled": false
   },
   "outputs": [],
   "source": [
    "def plot_spin_texture(kpath, bands, spin_moments):    \n",
    "    lk = kpath.lineark()\n",
    "    xtick, xtick_label = kpath.lineartick()    \n",
    "    nk, nbands = bands.shape\n",
    "    \n",
    "    # Create a figure with three subplot one for each component of the spin moment\n",
    "    fig, axes = plt.subplots(1, 3, figsize=(16, 9), dpi=300, sharex=True, sharey=True)\n",
    "\n",
    "    # Set the range of z-values, which will determine the color.\n",
    "    norm = plt.Normalize(-1, 1)\n",
    "\n",
    "    # Iterate of the spin components\n",
    "    for icomp, component in enumerate(['$S_x$', '$S_y$', '$S_z$']):\n",
    "        # Iterate over all bands \n",
    "        for ibnd in range(nbands):\n",
    "            # It is not possible to change the color of a line directly, so we create small \n",
    "            # line segements from one point on the x-axis to the next. These segments can \n",
    "            # then be colored individually.\n",
    "            points = np.array([lk, bands[:, ibnd]]).T.reshape(-1, 1, 2)\n",
    "            segments = np.concatenate([points[:-1], points[1:]], axis=1)\n",
    "            # Create a collection of the segments and specify a map that assigns colors \n",
    "            # to the segments according to the z-value\n",
    "            lc = LineCollection(segments, cmap='coolwarm', norm=norm)\n",
    "            # Set the z-values \n",
    "            lc.set_array(spin_moments[:, ibnd, icomp])             \n",
    "            lc.set_linewidth(3)\n",
    "\n",
    "            # Add the LineCollection to the subplot\n",
    "            line = axes[icomp].add_collection(lc)\n",
    "            \n",
    "        axes[icomp].set_title(component)\n",
    "\n",
    "    # All subplots share the same axis settings, so we can just adjust them once     \n",
    "    ymin, ymax = (-2, 2)\n",
    "    axes[0].set_xlim(min(lk), max(lk))\n",
    "    axes[0].set_ylim(ymin, ymax) \n",
    "    axes[0].set_ylabel('Eigenspectrum [eV]')\n",
    "    axes[0].xaxis.set_ticks(xtick)\n",
    "    axes[0].set_xticklabels(xtick_label)\n",
    "\n",
    "    for axis in axes:\n",
    "        for tick in xtick:\n",
    "            axis.plot([tick, tick], [ymin, ymax], 'k', linewidth=0.5)\n",
    "    \n",
    "    # Add a colorbar to the plot\n",
    "    fig.colorbar(line, ax=axes.ravel().tolist())\n",
    "    plt.show()"
   ]
  },
  {
   "cell_type": "code",
   "execution_count": null,
   "metadata": {},
   "outputs": [],
   "source": [
    "plot_spin_texture(kpath, bands - EFermi, spin_moments)"
   ]
  },
  {
   "cell_type": "markdown",
   "metadata": {},
   "source": [
    "What happens when every other band is plotted, instead of all of them at the same time? Why?"
   ]
  },
  {
   "cell_type": "markdown",
   "metadata": {},
   "source": [
    "Bands with even indices:"
   ]
  },
  {
   "cell_type": "code",
   "execution_count": null,
   "metadata": {},
   "outputs": [],
   "source": [
    "plot_spin_texture(kpath, bands[:,::2] - EFermi, spin_moments[:,::2])"
   ]
  },
  {
   "cell_type": "markdown",
   "metadata": {},
   "source": [
    "Bands with odd indices:"
   ]
  },
  {
   "cell_type": "code",
   "execution_count": null,
   "metadata": {},
   "outputs": [],
   "source": [
    "plot_spin_texture(kpath, bands[:,1::2] - EFermi, spin_moments[:,1::2])"
   ]
  },
  {
   "cell_type": "markdown",
   "metadata": {},
   "source": [
    "The system is time-reversal invariant. Therefore, all states appear in degenrate Kramer pairs. The two states forming the Kramer pair are mapped onto each other by the time-reversal operator $T$. Since, $T$ flips the spin of any state, the two states in every pair carry opposite spins."
   ]
  },
  {
   "cell_type": "markdown",
   "metadata": {},
   "source": [
    "We can see that the sum of the spin moments are indeed zero:"
   ]
  },
  {
   "cell_type": "code",
   "execution_count": null,
   "metadata": {},
   "outputs": [],
   "source": [
    "plot_spin_texture(kpath, bands[:,::2] - EFermi, spin_moments[:,0::2]+spin_moments[:,1::2])"
   ]
  },
  {
   "cell_type": "code",
   "execution_count": null,
   "metadata": {},
   "outputs": [],
   "source": []
  }
 ],
 "metadata": {
  "kernelspec": {
   "display_name": "Python 3",
   "language": "python",
   "name": "python3"
  },
  "language_info": {
   "codemirror_mode": {
    "name": "ipython",
    "version": 3
   },
   "file_extension": ".py",
   "mimetype": "text/x-python",
   "name": "python",
   "nbconvert_exporter": "python",
   "pygments_lexer": "ipython3",
   "version": "3.7.0"
  }
 },
 "nbformat": 4,
 "nbformat_minor": 2
}
