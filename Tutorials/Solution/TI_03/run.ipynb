{
 "cells": [
  {
   "cell_type": "code",
   "execution_count": 1,
   "metadata": {},
   "outputs": [],
   "source": [
    "import sisl\n",
    "import numpy as np\n",
    "import matplotlib.pyplot as plt\n",
    "%matplotlib inline\n",
    "import functools"
   ]
  },
  {
   "cell_type": "markdown",
   "metadata": {},
   "source": [
    "# TI-03: Quantum Hall Effect\n",
    "In this exercise, we will build on [TB_07](../TB_07/run.ipynb) and [A_03](../A_03/run.ipynb) to simulate the quantum hall effect. In A_03, we learned how to created a hall bar device and in TB_07 how to deal with magnetic fields.\n",
    "\n",
    "Here, we will extract the Hall resistance from the transmissions calculated with TBTrans using the Landauer-Büttiker formalism.\n",
    "\n",
    "## Exercise Overview:\n",
    "1. Create a Hall bar (see [A_03](../A_03/run.ipynb))\n",
    "2. Construct Hamiltonians and add magnetic fields (see [TB_07](../TB_07/run.ipynb))\n",
    "3. Calculate the transmission with `TBtrans`\n",
    "4. Extract the Hall resistance $(R_H)$.\n",
    "\n",
    "## Exercise"
   ]
  },
  {
   "cell_type": "markdown",
   "metadata": {},
   "source": [
    "### 1. Create a Hall bar\n",
    "In order to be able to observe the quantum hall effect, the size of the hall bar needs to be big enough. For a 4(6) lead device reasonable dimensions are: \n",
    "1. 4-lead device:\n",
    "   - Width of electrodes (perpendicular to the semi-infinite axis): 30 atoms\n",
    "   - Offset of the electrodes 2(3) from the corner of the central part: >= 5 atoms\n",
    "\n",
    "\n",
    "2. 6-lead device: \n",
    "   - Width of electrodes (perpendicular to the semi-infinite axis): 30 atoms\n",
    "   - Spacing between electrodes on the same side: 50 atoms\n",
    "   - Offset of the electrodes 2(3,5,6) from the corner of the central part: > 15 atoms\n",
    "\n",
    "|4-lead device |6-lead device |\n",
    "|:-------------|:-------------|\n",
    "|<img src=\"img/set-up-4.png\" alt=\"4 lead hall bar\" style=\"width: 310px;\"/>|<img src=\"img/set-up-6.png\" alt=\"6 lead hall bar\" style=\"width: 490px;\"/>|\n",
    "   \n",
    "\n"
   ]
  },
  {
   "cell_type": "code",
   "execution_count": 17,
   "metadata": {},
   "outputs": [],
   "source": [
    "sq = sisl.Geometry([.5] * 3,\n",
    "                   sisl.Atom(1, R=1.),\n",
    "                   sc=sisl.SuperCell([1., 1., 10.], nsc=[3, 3, 1]))"
   ]
  },
  {
   "cell_type": "code",
   "execution_count": 18,
   "metadata": {},
   "outputs": [],
   "source": [
    "el_width = 30 # Width of the electrode (perpendicular to semi-inf. direction)\n",
    "el_length = 1 # Length of the electrode (in the semi-inf. direction)\n",
    "el_offx = 25  # Offset along x-axis of electrodes from the corners of the device \n",
    "el_offy = 0   # Offset along y-axis of electrodes from the corners of the device\n",
    "el_pad = 50   # Distance between electrodes (only for 6-lead device)\n",
    "\n",
    "\n",
    "el_x = sq.tile(el_width, 1).tile(el_length, 0)\n",
    "el_y = sq.tile(el_width, 0).tile(el_length, 1)"
   ]
  },
  {
   "cell_type": "markdown",
   "metadata": {},
   "source": [
    "#### 4-lead device"
   ]
  },
  {
   "cell_type": "code",
   "execution_count": 19,
   "metadata": {},
   "outputs": [
    {
     "name": "stdout",
     "output_type": "stream",
     "text": [
      "1) Elec.Left\n",
      "\t electrode-position 2401\n",
      "2) Elec.Bottom\n",
      "\t  electrode-position 2431\n",
      "3) Elec.Top\n",
      "\t  electrode-position end 2490\n",
      "4) Elec.Right\n",
      "\t  electrode-position end 2520\n"
     ]
    }
   ],
   "source": [
    "nx = 1 * el_width + 2 * el_offx\n",
    "ny = 1 * el_width + 2 * el_offy\n",
    "center = sq.tile(nx, 0).tile(ny, 1)\n",
    "\n",
    "# Create space for the electrode regions\n",
    "dev = center.prepend(el_x.sc, axis=0).prepend(el_x.sc, axis=0)\n",
    "dev = dev.prepend(el_y.sc, axis=1).prepend(el_y.sc, axis=1)\n",
    "dev = dev.move(el_x.cell[0]+el_y.cell[1])\n",
    "\n",
    "# These help find atomic indices by their grid position\n",
    "dev_idx = np.arange(dev.no).reshape((nx,ny), order='F')\n",
    "el_x_idx = np.arange(el_x.no).reshape((el_length, el_width), order='C')\n",
    "el_y_idx = np.arange(el_y.no).reshape((el_width, el_length), order='F')\n",
    "\n",
    "# Attach the electrodes\n",
    "print(\"1) Elec.Left\\n\\t electrode-position\", dev.no+1)\n",
    "dev = dev.attach(dev_idx[0,el_offy], el_x, el_x_idx[-1,0], dist=[-1,0,0])\n",
    "\n",
    "print(\"2) Elec.Bottom\\n\\t  electrode-position\", dev.no+1)\n",
    "dev = dev.attach(dev_idx[el_offx, 0], el_y, el_y_idx[0,-1], dist=[0,-1,0])\n",
    "\n",
    "dev = dev.attach(dev_idx[el_offx, -1], el_y, el_y_idx[0,0], dist=[0,1,0])\n",
    "print(\"3) Elec.Top\\n\\t  electrode-position end\", dev.no)\n",
    "\n",
    "dev = dev.attach(dev_idx[-1,el_offy], el_x, el_x_idx[0,0], dist=[1,0,0])\n",
    "print(\"4) Elec.Right\\n\\t  electrode-position end\", dev.no)\n",
    "\n",
    "dev_final = dev"
   ]
  },
  {
   "cell_type": "markdown",
   "metadata": {},
   "source": [
    "#### 6-lead device"
   ]
  },
  {
   "cell_type": "code",
   "execution_count": 20,
   "metadata": {},
   "outputs": [
    {
     "name": "stdout",
     "output_type": "stream",
     "text": [
      "1) Elec.Left\n",
      "\t  electrode-position 4801\n",
      "2) Elec.BottomLeft\n",
      "\t  electrode-position 4831\n",
      "3) Elec.BottomRight\n",
      "\t  electrode-position 4861\n",
      "4) Elec.Right\n",
      "\t  electrode-position end 4920\n",
      "5) Elec.TopRight\n",
      "\t  electrode-position end 4950\n",
      "6) Elec.TopLeft\n",
      "\t  electrode-position end 4980\n"
     ]
    }
   ],
   "source": [
    "nx = 2 * el_width + 1 * el_pad + 2 * el_offx\n",
    "ny = 1 * el_width + 2 * el_offy\n",
    "center = sq.tile(nx, 0).tile(ny, 1)\n",
    "\n",
    "# Create space for the electrode regions\n",
    "dev = center.prepend(el_x.sc, axis=0).prepend(el_x.sc, axis=0)\n",
    "dev = dev.prepend(el_y.sc, axis=1).prepend(el_y.sc, axis=1)\n",
    "dev = dev.move(el_x.cell[0]+el_y.cell[1])\n",
    "\n",
    "# These help find atomic indices by their grid position\n",
    "dev_idx = np.arange(dev.no).reshape((nx,ny), order='F')\n",
    "el_x_idx = np.arange(el_x.no).reshape((el_length, el_width), order='C')\n",
    "el_y_idx = np.arange(el_y.no).reshape((el_width, el_length), order='F')\n",
    "\n",
    "# Attach the electrodes\n",
    "print(\"1) Elec.Left\\n\\t  electrode-position\", dev.no+1)\n",
    "dev = dev.attach(dev_idx[0,el_offy], el_x, el_x_idx[-1,0], dist=[-1,0,0])\n",
    "\n",
    "print(\"2) Elec.BottomLeft\\n\\t  electrode-position\", dev.no+1)\n",
    "dev = dev.attach(dev_idx[el_offx, 0], el_y, el_y_idx[0,-1], dist=[0,-1,0])\n",
    "\n",
    "print(\"3) Elec.BottomRight\\n\\t  electrode-position\", dev.no+1)\n",
    "dev = dev.attach(dev_idx[-1-el_offx, 0], el_y, el_y_idx[-1,-1], dist=[0,-1,0])\n",
    "\n",
    "dev = dev.attach(dev_idx[-1,el_offy], el_x, el_x_idx[0,0], dist=[1,0,0])\n",
    "print(\"4) Elec.Right\\n\\t  electrode-position end\", dev.no)\n",
    "\n",
    "dev = dev.attach(dev_idx[-1-el_offx, -1], el_y, el_y_idx[-1,0], dist=[0,1,0])\n",
    "print(\"5) Elec.TopRight\\n\\t  electrode-position end\", dev.no)\n",
    "\n",
    "dev = dev.attach(dev_idx[el_offx, -1], el_y, el_y_idx[0,0], dist=[0,1,0])\n",
    "print(\"6) Elec.TopLeft\\n\\t  electrode-position end\", dev.no)\n",
    "\n",
    "dev_final = dev"
   ]
  },
  {
   "cell_type": "markdown",
   "metadata": {},
   "source": [
    "### 2. Construct Hamiltonian and add magnetic fields\n",
    "\n",
    "The required field strengths may vary depending on the size of the hall bar.\n",
    "A good starting point might by `B = 1 / np.arange(1,31)`"
   ]
  },
  {
   "cell_type": "code",
   "execution_count": 21,
   "metadata": {},
   "outputs": [],
   "source": [
    "def peierls(self, ia, atoms, atoms_xyz=None, B=None):\n",
    "    idx = self.geometry.close(ia, R=[0.1, 1.01], atoms=atoms, atoms_xyz=atoms_xyz)\n",
    "    # Onsite\n",
    "    self[ia, idx[0]] = 4\n",
    "    \n",
    "    # Hopping\n",
    "    if B == 0:\n",
    "        self[ia, idx[1]] = -1\n",
    "    else:\n",
    "        xyz = self.geometry.xyz[ia]\n",
    "        dxyz = self.geometry[idx[1]]\n",
    "        self[ia, idx[1]] = - np.exp(-0.5j * B * (dxyz[:, 0] - xyz[0])*(dxyz[:,1] + xyz[1]))"
   ]
  },
  {
   "cell_type": "code",
   "execution_count": 22,
   "metadata": {},
   "outputs": [],
   "source": [
    "# Create hamiltonian for the electrodes\n",
    "H_el = sisl.Hamiltonian(el_x, dtype=np.float64)\n",
    "H_el.set_nsc([3,1,1])\n",
    "H_el.construct(functools.partial(peierls, B=0.))\n",
    "H_el.write('ELEC_x.nc')\n",
    "\n",
    "H_el = sisl.Hamiltonian(el_y, dtype=np.float64)\n",
    "H_el.set_nsc([1,3,1])\n",
    "H_el.construct(functools.partial(peierls, B=0.))\n",
    "H_el.write('ELEC_y.nc')"
   ]
  },
  {
   "cell_type": "code",
   "execution_count": 8,
   "metadata": {},
   "outputs": [],
   "source": [
    "# Create device hamiltonian without magnetic field\n",
    "H_dev = sisl.Hamiltonian(dev_final, dtype=np.float64)\n",
    "H_dev.set_nsc([1,1,1])\n",
    "H_dev.construct(functools.partial(peierls, B=0))\n",
    "H_dev.write('DEVICE.nc')"
   ]
  },
  {
   "cell_type": "code",
   "execution_count": 23,
   "metadata": {},
   "outputs": [
    {
     "ename": "KeyboardInterrupt",
     "evalue": "",
     "output_type": "error",
     "traceback": [
      "\u001b[0;31m---------------------------------------------------------------------------\u001b[0m",
      "\u001b[0;31mKeyboardInterrupt\u001b[0m                         Traceback (most recent call last)",
      "\u001b[0;32m<ipython-input-23-e2e35cb63c4a>\u001b[0m in \u001b[0;36m<module>\u001b[0;34m\u001b[0m\n\u001b[1;32m      6\u001b[0m \u001b[0mrec_phis\u001b[0m \u001b[0;34m=\u001b[0m \u001b[0mnp\u001b[0m\u001b[0;34m.\u001b[0m\u001b[0mlinspace\u001b[0m\u001b[0;34m(\u001b[0m\u001b[0;36m10\u001b[0m\u001b[0;34m,\u001b[0m\u001b[0;36m30\u001b[0m\u001b[0;34m,\u001b[0m\u001b[0;36m21\u001b[0m\u001b[0;34m)\u001b[0m\u001b[0;34m\u001b[0m\u001b[0;34m\u001b[0m\u001b[0m\n\u001b[1;32m      7\u001b[0m \u001b[0;32mfor\u001b[0m \u001b[0mrec_phi\u001b[0m \u001b[0;32min\u001b[0m \u001b[0mrec_phis\u001b[0m\u001b[0;34m:\u001b[0m\u001b[0;34m\u001b[0m\u001b[0;34m\u001b[0m\u001b[0m\n\u001b[0;32m----> 8\u001b[0;31m     \u001b[0mdH\u001b[0m\u001b[0;34m.\u001b[0m\u001b[0mconstruct\u001b[0m\u001b[0;34m(\u001b[0m\u001b[0mfunctools\u001b[0m\u001b[0;34m.\u001b[0m\u001b[0mpartial\u001b[0m\u001b[0;34m(\u001b[0m\u001b[0mpeierls\u001b[0m\u001b[0;34m,\u001b[0m \u001b[0mB\u001b[0m\u001b[0;34m=\u001b[0m\u001b[0;36m1\u001b[0m\u001b[0;34m/\u001b[0m\u001b[0mrec_phi\u001b[0m\u001b[0;34m)\u001b[0m\u001b[0;34m)\u001b[0m\u001b[0;34m\u001b[0m\u001b[0;34m\u001b[0m\u001b[0m\n\u001b[0m\u001b[1;32m      9\u001b[0m     \u001b[0mdH\u001b[0m \u001b[0;34m=\u001b[0m \u001b[0mdH\u001b[0m \u001b[0;34m-\u001b[0m \u001b[0mH_dev\u001b[0m\u001b[0;34m\u001b[0m\u001b[0;34m\u001b[0m\u001b[0m\n\u001b[1;32m     10\u001b[0m     \u001b[0;32mwith\u001b[0m \u001b[0msisl\u001b[0m\u001b[0;34m.\u001b[0m\u001b[0mget_sile\u001b[0m\u001b[0;34m(\u001b[0m\u001b[0;34m'M_{}.dH.nc'\u001b[0m\u001b[0;34m.\u001b[0m\u001b[0mformat\u001b[0m\u001b[0;34m(\u001b[0m\u001b[0mrec_phi\u001b[0m\u001b[0;34m)\u001b[0m\u001b[0;34m,\u001b[0m \u001b[0mmode\u001b[0m\u001b[0;34m=\u001b[0m\u001b[0;34m'w'\u001b[0m\u001b[0;34m)\u001b[0m \u001b[0;32mas\u001b[0m \u001b[0mfh\u001b[0m\u001b[0;34m:\u001b[0m\u001b[0;34m\u001b[0m\u001b[0;34m\u001b[0m\u001b[0m\n",
      "\u001b[0;32m~/TBT-TS-sisl-workshop/miniconda3/lib/python3.8/site-packages/sisl/sparse_geometry.py\u001b[0m in \u001b[0;36mconstruct\u001b[0;34m(self, func, na_iR, method, eta)\u001b[0m\n\u001b[1;32m    587\u001b[0m             \u001b[0;31m# Loop the atoms inside\u001b[0m\u001b[0;34m\u001b[0m\u001b[0;34m\u001b[0m\u001b[0;34m\u001b[0m\u001b[0m\n\u001b[1;32m    588\u001b[0m             \u001b[0;32mfor\u001b[0m \u001b[0mia\u001b[0m \u001b[0;32min\u001b[0m \u001b[0mias\u001b[0m\u001b[0;34m:\u001b[0m\u001b[0;34m\u001b[0m\u001b[0;34m\u001b[0m\u001b[0m\n\u001b[0;32m--> 589\u001b[0;31m                 \u001b[0mfunc\u001b[0m\u001b[0;34m(\u001b[0m\u001b[0mself\u001b[0m\u001b[0;34m,\u001b[0m \u001b[0mia\u001b[0m\u001b[0;34m,\u001b[0m \u001b[0midxs\u001b[0m\u001b[0;34m,\u001b[0m \u001b[0midxs_xyz\u001b[0m\u001b[0;34m)\u001b[0m\u001b[0;34m\u001b[0m\u001b[0;34m\u001b[0m\u001b[0m\n\u001b[0m\u001b[1;32m    590\u001b[0m \u001b[0;34m\u001b[0m\u001b[0m\n\u001b[1;32m    591\u001b[0m             \u001b[0meta\u001b[0m\u001b[0;34m.\u001b[0m\u001b[0mupdate\u001b[0m\u001b[0;34m(\u001b[0m\u001b[0mlen\u001b[0m\u001b[0;34m(\u001b[0m\u001b[0mias\u001b[0m\u001b[0;34m)\u001b[0m\u001b[0;34m)\u001b[0m\u001b[0;34m\u001b[0m\u001b[0;34m\u001b[0m\u001b[0m\n",
      "\u001b[0;32m<ipython-input-21-7eeb388108aa>\u001b[0m in \u001b[0;36mpeierls\u001b[0;34m(self, ia, atoms, atoms_xyz, B)\u001b[0m\n\u001b[1;32m      1\u001b[0m \u001b[0;32mdef\u001b[0m \u001b[0mpeierls\u001b[0m\u001b[0;34m(\u001b[0m\u001b[0mself\u001b[0m\u001b[0;34m,\u001b[0m \u001b[0mia\u001b[0m\u001b[0;34m,\u001b[0m \u001b[0matoms\u001b[0m\u001b[0;34m,\u001b[0m \u001b[0matoms_xyz\u001b[0m\u001b[0;34m=\u001b[0m\u001b[0;32mNone\u001b[0m\u001b[0;34m,\u001b[0m \u001b[0mB\u001b[0m\u001b[0;34m=\u001b[0m\u001b[0;32mNone\u001b[0m\u001b[0;34m)\u001b[0m\u001b[0;34m:\u001b[0m\u001b[0;34m\u001b[0m\u001b[0;34m\u001b[0m\u001b[0m\n\u001b[0;32m----> 2\u001b[0;31m     \u001b[0midx\u001b[0m \u001b[0;34m=\u001b[0m \u001b[0mself\u001b[0m\u001b[0;34m.\u001b[0m\u001b[0mgeometry\u001b[0m\u001b[0;34m.\u001b[0m\u001b[0mclose\u001b[0m\u001b[0;34m(\u001b[0m\u001b[0mia\u001b[0m\u001b[0;34m,\u001b[0m \u001b[0mR\u001b[0m\u001b[0;34m=\u001b[0m\u001b[0;34m[\u001b[0m\u001b[0;36m0.1\u001b[0m\u001b[0;34m,\u001b[0m \u001b[0;36m1.01\u001b[0m\u001b[0;34m]\u001b[0m\u001b[0;34m,\u001b[0m \u001b[0matoms\u001b[0m\u001b[0;34m=\u001b[0m\u001b[0matoms\u001b[0m\u001b[0;34m,\u001b[0m \u001b[0matoms_xyz\u001b[0m\u001b[0;34m=\u001b[0m\u001b[0matoms_xyz\u001b[0m\u001b[0;34m)\u001b[0m\u001b[0;34m\u001b[0m\u001b[0;34m\u001b[0m\u001b[0m\n\u001b[0m\u001b[1;32m      3\u001b[0m     \u001b[0;31m# Onsite\u001b[0m\u001b[0;34m\u001b[0m\u001b[0;34m\u001b[0m\u001b[0;34m\u001b[0m\u001b[0m\n\u001b[1;32m      4\u001b[0m     \u001b[0mself\u001b[0m\u001b[0;34m[\u001b[0m\u001b[0mia\u001b[0m\u001b[0;34m,\u001b[0m \u001b[0midx\u001b[0m\u001b[0;34m[\u001b[0m\u001b[0;36m0\u001b[0m\u001b[0;34m]\u001b[0m\u001b[0;34m]\u001b[0m \u001b[0;34m=\u001b[0m \u001b[0;36m4\u001b[0m\u001b[0;34m\u001b[0m\u001b[0;34m\u001b[0m\u001b[0m\n\u001b[1;32m      5\u001b[0m \u001b[0;34m\u001b[0m\u001b[0m\n",
      "\u001b[0;32m~/TBT-TS-sisl-workshop/miniconda3/lib/python3.8/site-packages/sisl/geometry.py\u001b[0m in \u001b[0;36mclose\u001b[0;34m(self, xyz_ia, R, atoms, atoms_xyz, ret_xyz, ret_rij, ret_isc)\u001b[0m\n\u001b[1;32m   3391\u001b[0m                 \u001b[0;31m# This is to \"fake\" the return\u001b[0m\u001b[0;34m\u001b[0m\u001b[0;34m\u001b[0m\u001b[0;34m\u001b[0m\u001b[0m\n\u001b[1;32m   3392\u001b[0m                 \u001b[0;31m# of a list (we will do indexing!)\u001b[0m\u001b[0;34m\u001b[0m\u001b[0;34m\u001b[0m\u001b[0;34m\u001b[0m\u001b[0m\n\u001b[0;32m-> 3393\u001b[0;31m                 \u001b[0msret\u001b[0m \u001b[0;34m=\u001b[0m \u001b[0;34m[\u001b[0m\u001b[0msret\u001b[0m\u001b[0;34m]\u001b[0m\u001b[0;34m\u001b[0m\u001b[0;34m\u001b[0m\u001b[0m\n\u001b[0m\u001b[1;32m   3394\u001b[0m \u001b[0;34m\u001b[0m\u001b[0m\n\u001b[1;32m   3395\u001b[0m             \u001b[0;32mif\u001b[0m \u001b[0misinstance\u001b[0m\u001b[0;34m(\u001b[0m\u001b[0msret\u001b[0m\u001b[0;34m[\u001b[0m\u001b[0;36m0\u001b[0m\u001b[0;34m]\u001b[0m\u001b[0;34m,\u001b[0m \u001b[0mlist\u001b[0m\u001b[0;34m)\u001b[0m\u001b[0;34m:\u001b[0m\u001b[0;34m\u001b[0m\u001b[0;34m\u001b[0m\u001b[0m\n",
      "\u001b[0;31mKeyboardInterrupt\u001b[0m: "
     ]
    }
   ],
   "source": [
    "# Calculate device hamiltonian with magnetic field and store dH\n",
    "dH = sisl.Hamiltonian(dev_final, dtype=np.complex128)\n",
    "dH.set_nsc([1,1,1])\n",
    "\n",
    "# Rec_phis: reciprocal phis, reciprocal mesh is advantages because steps scale with 1/B and phi ~ B\n",
    "rec_phis = np.linspace(10,30,21)\n",
    "for rec_phi in rec_phis:\n",
    "    dH.construct(functools.partial(peierls, B=1/rec_phi))\n",
    "    dH = dH - H_dev\n",
    "    with sisl.get_sile('M_{}.dH.nc'.format(rec_phi), mode='w') as fh:\n",
    "        fh.write_delta(dH)"
   ]
  },
  {
   "cell_type": "code",
   "execution_count": 10,
   "metadata": {},
   "outputs": [],
   "source": [
    "# plt.figure(figsize=(4,4), dpi=400)\n",
    "# plt.imshow(dH.Hk(format='array').imag, interpolation='None')\n",
    "# plt.colorbar()"
   ]
  },
  {
   "cell_type": "markdown",
   "metadata": {},
   "source": [
    "### 3. Calculate the transmission with TBtrans\n",
    "\n",
    "The folder of this exercise contains the skeleton of an input file for a 4-lead (RUN-4.fdf) and 6-lead device (RUN-6.fdf), as well as a script to run TBtrans for all values of the magnetic field (run.sh).\n",
    "\n",
    "*Depending on the size of the Hall bar this step might require some a considerable amount of time.*\n",
    "\n",
    "### 4. Extract the Hall resistance $(R_H)$\n",
    "\n",
    "The Hall resistance ($R_H$) in a 4 lead Hall bar like the one shown above is given by\n",
    "\n",
    "$$R_H = \\left.\\frac{V_2-V_3}{I_1}\\right|_{I_2 = I_3 = 0}.$$\n",
    "\n",
    "In order to find a relationship between the transmission curves and the hall resistance, we express the lead currents $I_i$ in terms of applied biases $V_i$ and the transmissions $T_{ij}$ between leads $i$ and $j$\n",
    "$$I_i = \\sum_j G_{ij} (V_i - V_j)\\quad\\text{where}\\quad G_{ij} = \\frac{2e^2}{h} T_{ij}.$$\n",
    "Since the currents only depend on bias differences, we can set one of them to zero without loss of generality (here $V_3 = 0$). This allows us to rewrite the relation as\n",
    "\n",
    "$$\\mathbf{I} = \\mathcal{G} \\mathbf{V}\n",
    "\\quad\\text{, where}\\quad\n",
    "\\mathcal{G}_{ii} = \\sum_{i\\neq j} G_{ij}\n",
    "\\quad\\text{and}\\quad\n",
    "\\mathcal{G}_{ij} = - G_{ij}.$$\n",
    "\n",
    "Using the inverse $\\mathbf{R}$ of $\\mathcal{G}$, we can express $V_2$ and $V_3$ in terms of the lead currents $I_i$ and calculate the Hall conductance:\n",
    "\n",
    "$$\n",
    "V_i = R_{i1} I_1 + R_{i2} I_2 + R_{i3} I_3,\n",
    "$$\n",
    "and finally, we find the Hall resistance:\n",
    "$$\n",
    "R_H = R_{21}-R_{31}\n",
    "$$\n",
    "\n",
    "The derivation for the 6-lead device is analogous and yields:\n",
    "$$\n",
    "R_H = R_{21}-R_{61}\n",
    "$$\n",
    "\n",
    "**Do we need to add some comments about what the result should look like?**\n",
    "\n",
    "### 6. Extract longitudinal resistance $R_L$\n",
    "The longitudinal resistance can be extracted using the same approach used for the Hall resistance. With a 6-lead Hall bar we can replace the $V_3$ with $V_6$ and get it immediately. With a 4-lead Hall bar we need to create a new device with electrodes 2 and 3 on the same side of the Hall bar. \n",
    "\n",
    "*If the energy mesh in TBTrans and the mesh for magnetic field strength are fine engough spikes in $R_L$ should be observable at each step of $R_H$.*"
   ]
  },
  {
   "cell_type": "code",
   "execution_count": 24,
   "metadata": {},
   "outputs": [],
   "source": [
    "# Create short-hand function\n",
    "gs = sisl.get_sile\n",
    "# No magnetic field\n",
    "tbt0 = gs('M_0/siesta.TBT.nc')\n",
    "# All magnetic fields in increasing order\n",
    "tbts = [gs('M_{}/siesta.TBT.nc'.format(rec_phi)) for rec_phi in rec_phis]"
   ]
  },
  {
   "cell_type": "code",
   "execution_count": 32,
   "metadata": {},
   "outputs": [],
   "source": [
    "# Create matrix G\n",
    "def Tmatrix (tbtsile, n, E_idx, ref_idx):\n",
    "    mT = np.zeros((E_idx, n, n))\n",
    "    for i in range(n):\n",
    "        for j in range(n):\n",
    "            if i == j: continue\n",
    "            Tij = tbtsile.transmission(i,j)\n",
    "            mT[:,i,j] = -Tij\n",
    "            mT[:,i,i] += Tij\n",
    "    return np.delete(np.delete(mT, ref_idx, axis=2), ref_idx, axis=1)\n",
    "\n",
    "E = tbt0.E\n",
    "n, E_idx, ref_idx = 6, E.shape[0], 3\n",
    "T0 = Tmatrix(tbt0, n, E_idx, ref_idx)\n",
    "\n",
    "T = np.zeros((len(rec_phis), E_idx, n-1, n-1))\n",
    "for i, tbt in enumerate(tbts):\n",
    "    T[i] = Tmatrix(tbt, n, E_idx, ref_idx)"
   ]
  },
  {
   "cell_type": "code",
   "execution_count": 33,
   "metadata": {},
   "outputs": [],
   "source": [
    "# Calculate inverse of G\n",
    "R0 = np.linalg.inv(T0)\n",
    "R = np.linalg.inv(T)\n",
    "\n",
    "# Extract RH (and longitudial resistance for 6-lead device (R_L))\n",
    "RH = R0[:,1,0] - R0[:,4,0]\n",
    "RL = R0[:,1,0] - R0[:,2,0]\n",
    "RH = R[:,:,1,0] - R[:,:,4,0]\n",
    "RL = R[:,:,1,0] - R[:,:,2,0]"
   ]
  },
  {
   "cell_type": "code",
   "execution_count": 35,
   "metadata": {},
   "outputs": [
    {
     "data": {
      "image/png": "[encoded data removed]",
      "text/plain": [
       "<Figure size 576x432 with 2 Axes>"
      ]
     },
     "metadata": {
      "needs_background": "light"
     },
     "output_type": "display_data"
    }
   ],
   "source": [
    "# Plot the results\n",
    "E_idx = 48\n",
    "phi_idx = 4\n",
    "plt.rcParams.update({'font.size':20})\n",
    "fig, axs = plt.subplots(1,2, sharey=True, figsize=(8,6))#, dpi=300)\n",
    "axs[0].set_title('$\\phi = {:.5f}$'.format(1/rec_phis[phi_idx]))\n",
    "axs[0].plot(E, RH[phi_idx,:], '.-', label='$R_{H}$')\n",
    "axs[0].plot(E, 10*RL[phi_idx,:], '.-', label='$R_{L}$')\n",
    "axs[0].set_ylim(0,1.2)\n",
    "# axs[0].set_xlim(00.1,0.3)\n",
    "axs[1].set_title(f'E = {E[E_idx]:.5f}')\n",
    "axs[1].plot(1/rec_phis, RH[:,E_idx], '.-', label='$R_{H}$')\n",
    "axs[1].plot(1/rec_phis, 10*RL[:,E_idx], '.-', label='$R_{L}$')\n",
    "\n",
    "secax = axs[1].secondary_yaxis('right', functions=(lambda y: 0.1*y, lambda y: 10*y))\n",
    "\n",
    "axs[0].set_ylabel(r'$R_H \\left[h/2e^2\\right]$')\n",
    "axs[0].set_xlabel('$E/t$')\n",
    "axs[1].set_xlabel('$\\phi/\\phi_0$')\n",
    "secax.set_ylabel(r'$R_L \\left[h/2e^2\\right]$')\n",
    "\n",
    "axs[1].legend()\n",
    "plt.show()"
   ]
  },
  {
   "cell_type": "code",
   "execution_count": null,
   "metadata": {},
   "outputs": [],
   "source": []
  },
  {
   "cell_type": "code",
   "execution_count": null,
   "metadata": {},
   "outputs": [],
   "source": []
  }
 ],
 "metadata": {
  "kernelspec": {
   "display_name": "Python 3",
   "language": "python",
   "name": "python3"
  },
  "language_info": {
   "codemirror_mode": {
    "name": "ipython",
    "version": 3
   },
   "file_extension": ".py",
   "mimetype": "text/x-python",
   "name": "python",
   "nbconvert_exporter": "python",
   "pygments_lexer": "ipython3",
   "version": "3.8.5"
  }
 },
 "nbformat": 4,
 "nbformat_minor": 2
}
