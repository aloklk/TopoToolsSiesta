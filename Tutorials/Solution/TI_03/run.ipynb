{
 "cells": [
  {
   "cell_type": "code",
   "execution_count": 1,
   "metadata": {},
   "outputs": [],
   "source": [
    "import sisl\n",
    "import numpy as np\n",
    "import matplotlib.pyplot as plt\n",
    "%matplotlib inline\n",
    "import functools"
   ]
  },
  {
   "cell_type": "markdown",
   "metadata": {},
   "source": [
    "# TI-03: Quantum Hall Effect\n",
    "In this exercise, we will build on [TB_07](../TB_07/run.ipynb) and [A_03](../A_03/run.ipynb) to simulate the quantum hall effect. In A_03, we learned how to created a hall bar device and in TB_07 how to deal with magnetic fields.\n",
    "\n",
    "Here, we will extract the Hall resistance from the transmissions calculated with TBTrans using the Landauer-Büttiker formalism.\n",
    "\n",
    "## Exercise Overview:\n",
    "1. Create a Hall bar (see [A_03](../A_03/run.ipynb))\n",
    "2. Construct Hamiltonians and add magnetic fields (see [TB_07](../TB_07/run.ipynb))\n",
    "3. Calculate the transmission with `TBtrans`\n",
    "4. Extract the Hall resistance $(R_H)$.\n",
    "\n",
    "## Exercise"
   ]
  },
  {
   "cell_type": "markdown",
   "metadata": {},
   "source": [
    "### 1. Create a Hall bar\n",
    "In order to be able to observe the quantum hall effect, the size of the hall bar needs to be big enough. For a 4(6) lead device reasonable dimensions are: \n",
    "1. 4-lead device:\n",
    "   - Width of electrodes (perpendicular to the semi-infinite axis): 30 atoms\n",
    "   - Offset of the electrodes 2(3) from the corner of the central part: >= 5 atoms\n",
    "\n",
    "\n",
    "2. 6-lead device: \n",
    "   - Width of electrodes (perpendicular to the semi-infinite axis): 30 atoms\n",
    "   - Spacing between electrodes on the same side: 50 atoms\n",
    "   - Offset of the electrodes 2(3,5,6) from the corner of the central part: > 15 atoms\n",
    "\n",
    "|4-lead device |6-lead device |\n",
    "|:-------------|:-------------|\n",
    "|<img src=\"img/set-up-4.png\" alt=\"4 lead hall bar\" style=\"width: 310px;\"/>|<img src=\"img/set-up-6.png\" alt=\"6 lead hall bar\" style=\"width: 490px;\"/>|\n",
    "   \n",
    "\n"
   ]
  },
  {
   "cell_type": "code",
   "execution_count": 2,
   "metadata": {},
   "outputs": [],
   "source": [
    "sq = sisl.Geometry([.5] * 3,\n",
    "                   sisl.Atom(1, R=1.),\n",
    "                   sc=sisl.SuperCell([1., 1., 10.], nsc=[3, 3, 1]))"
   ]
  },
  {
   "cell_type": "code",
   "execution_count": 3,
   "metadata": {},
   "outputs": [],
   "source": [
    "el_width = 30 # Width of the electrode (perpendicular to semi-inf. direction)\n",
    "el_length = 1 # Length of the electrode (in the semi-inf. direction)\n",
    "el_offx = 25  # Offset along x-axis of electrodes from the corners of the device \n",
    "el_offy = 0   # Offset along y-axis of electrodes from the corners of the device\n",
    "el_pad = 50   # Distance between electrodes (only for 6-lead device)\n",
    "\n",
    "\n",
    "el_x = sq.tile(el_width, 1).tile(el_length, 0)\n",
    "el_y = sq.tile(el_width, 0).tile(el_length, 1)"
   ]
  },
  {
   "cell_type": "markdown",
   "metadata": {},
   "source": [
    "#### 4-lead device"
   ]
  },
  {
   "cell_type": "code",
   "execution_count": 4,
   "metadata": {},
   "outputs": [
    {
     "name": "stdout",
     "output_type": "stream",
     "text": [
      "1) Elec.Left\n",
      "\t electrode-position 2401\n",
      "2) Elec.Bottom\n",
      "\t  electrode-position 2431\n",
      "3) Elec.Top\n",
      "\t  electrode-position end 2490\n",
      "4) Elec.Right\n",
      "\t  electrode-position end 2520\n"
     ]
    }
   ],
   "source": [
    "nx = 1 * el_width + 2 * el_offx\n",
    "ny = 1 * el_width + 2 * el_offy\n",
    "center = sq.tile(nx, 0).tile(ny, 1)\n",
    "\n",
    "# Create space for the electrode regions\n",
    "dev = center.prepend(el_x.sc, axis=0).prepend(el_x.sc, axis=0)\n",
    "dev = dev.prepend(el_y.sc, axis=1).prepend(el_y.sc, axis=1)\n",
    "dev = dev.move(el_x.cell[0]+el_y.cell[1])\n",
    "\n",
    "# These help find atomic indices by their grid position\n",
    "dev_idx = np.arange(dev.no).reshape((nx,ny), order='F')\n",
    "el_x_idx = np.arange(el_x.no).reshape((el_length, el_width), order='C')\n",
    "el_y_idx = np.arange(el_y.no).reshape((el_width, el_length), order='F')\n",
    "\n",
    "# Attach the electrodes\n",
    "print(\"1) Elec.Left\\n\\t electrode-position\", dev.no+1)\n",
    "dev = dev.attach(dev_idx[0,el_offy], el_x, el_x_idx[-1,0], dist=[-1,0,0])\n",
    "\n",
    "print(\"2) Elec.Bottom\\n\\t  electrode-position\", dev.no+1)\n",
    "dev = dev.attach(dev_idx[el_offx, 0], el_y, el_y_idx[0,-1], dist=[0,-1,0])\n",
    "\n",
    "dev = dev.attach(dev_idx[el_offx, -1], el_y, el_y_idx[0,0], dist=[0,1,0])\n",
    "print(\"3) Elec.Top\\n\\t  electrode-position end\", dev.no)\n",
    "\n",
    "dev = dev.attach(dev_idx[-1,el_offy], el_x, el_x_idx[0,0], dist=[1,0,0])\n",
    "print(\"4) Elec.Right\\n\\t  electrode-position end\", dev.no)\n",
    "\n",
    "dev_final = dev"
   ]
  },
  {
   "cell_type": "markdown",
   "metadata": {},
   "source": [
    "#### 6-lead device"
   ]
  },
  {
   "cell_type": "code",
   "execution_count": 5,
   "metadata": {},
   "outputs": [
    {
     "name": "stdout",
     "output_type": "stream",
     "text": [
      "1) Elec.Left\n",
      "\t  electrode-position 4801\n",
      "2) Elec.BottomLeft\n",
      "\t  electrode-position 4831\n",
      "3) Elec.BottomRight\n",
      "\t  electrode-position 4861\n",
      "4) Elec.Right\n",
      "\t  electrode-position end 4920\n",
      "5) Elec.TopRight\n",
      "\t  electrode-position end 4950\n",
      "6) Elec.TopLeft\n",
      "\t  electrode-position end 4980\n"
     ]
    }
   ],
   "source": [
    "nx = 2 * el_width + 1 * el_pad + 2 * el_offx\n",
    "ny = 1 * el_width + 2 * el_offy\n",
    "center = sq.tile(nx, 0).tile(ny, 1)\n",
    "\n",
    "# Create space for the electrode regions\n",
    "dev = center.prepend(el_x.sc, axis=0).prepend(el_x.sc, axis=0)\n",
    "dev = dev.prepend(el_y.sc, axis=1).prepend(el_y.sc, axis=1)\n",
    "dev = dev.move(el_x.cell[0]+el_y.cell[1])\n",
    "\n",
    "# These help find atomic indices by their grid position\n",
    "dev_idx = np.arange(dev.no).reshape((nx,ny), order='F')\n",
    "el_x_idx = np.arange(el_x.no).reshape((el_length, el_width), order='C')\n",
    "el_y_idx = np.arange(el_y.no).reshape((el_width, el_length), order='F')\n",
    "\n",
    "# Attach the electrodes\n",
    "print(\"1) Elec.Left\\n\\t  electrode-position\", dev.no+1)\n",
    "dev = dev.attach(dev_idx[0,el_offy], el_x, el_x_idx[-1,0], dist=[-1,0,0])\n",
    "\n",
    "print(\"2) Elec.BottomLeft\\n\\t  electrode-position\", dev.no+1)\n",
    "dev = dev.attach(dev_idx[el_offx, 0], el_y, el_y_idx[0,-1], dist=[0,-1,0])\n",
    "\n",
    "print(\"3) Elec.BottomRight\\n\\t  electrode-position\", dev.no+1)\n",
    "dev = dev.attach(dev_idx[-1-el_offx, 0], el_y, el_y_idx[-1,-1], dist=[0,-1,0])\n",
    "\n",
    "dev = dev.attach(dev_idx[-1,el_offy], el_x, el_x_idx[0,0], dist=[1,0,0])\n",
    "print(\"4) Elec.Right\\n\\t  electrode-position end\", dev.no)\n",
    "\n",
    "dev = dev.attach(dev_idx[-1-el_offx, -1], el_y, el_y_idx[-1,0], dist=[0,1,0])\n",
    "print(\"5) Elec.TopRight\\n\\t  electrode-position end\", dev.no)\n",
    "\n",
    "dev = dev.attach(dev_idx[el_offx, -1], el_y, el_y_idx[0,0], dist=[0,1,0])\n",
    "print(\"6) Elec.TopLeft\\n\\t  electrode-position end\", dev.no)\n",
    "\n",
    "dev_final = dev"
   ]
  },
  {
   "cell_type": "markdown",
   "metadata": {},
   "source": [
    "### 2. Construct Hamiltonian and add magnetic fields\n",
    "\n",
    "The required field strengths may vary depending on the size of the hall bar.\n",
    "A good starting point might by `B = 1 / np.arange(1,31)`"
   ]
  },
  {
   "cell_type": "code",
   "execution_count": 6,
   "metadata": {},
   "outputs": [],
   "source": [
    "def peierls(self, ia, atoms, atoms_xyz=None, B=None):\n",
    "    idx = self.geometry.close(ia, R=[0.1, 1.01], atoms=atoms, atoms_xyz=atoms_xyz)\n",
    "    # Onsite\n",
    "    self[ia, idx[0]] = 4\n",
    "    \n",
    "    # Hopping\n",
    "    if B == 0:\n",
    "        self[ia, idx[1]] = -1\n",
    "    else:\n",
    "        xyz = self.geometry.xyz[ia]\n",
    "        dxyz = self.geometry[idx[1]]\n",
    "        self[ia, idx[1]] = - np.exp(-0.5j * B * (dxyz[:, 0] - xyz[0])*(dxyz[:,1] + xyz[1]))"
   ]
  },
  {
   "cell_type": "code",
   "execution_count": 7,
   "metadata": {},
   "outputs": [],
   "source": [
    "# Create hamiltonian for the electrodes\n",
    "H_el = sisl.Hamiltonian(el_x, dtype=np.float64)\n",
    "H_el.set_nsc([3,1,1])\n",
    "H_el.construct(functools.partial(peierls, B=0.))\n",
    "H_el.write('ELEC_x.nc')\n",
    "\n",
    "H_el = sisl.Hamiltonian(el_y, dtype=np.float64)\n",
    "H_el.set_nsc([1,3,1])\n",
    "H_el.construct(functools.partial(peierls, B=0.))\n",
    "H_el.write('ELEC_y.nc')"
   ]
  },
  {
   "cell_type": "code",
   "execution_count": 8,
   "metadata": {},
   "outputs": [],
   "source": [
    "# Create device hamiltonian without magnetic field\n",
    "H_dev = sisl.Hamiltonian(dev_final, dtype=np.float64)\n",
    "H_dev.set_nsc([1,1,1])\n",
    "H_dev.construct(functools.partial(peierls, B=0))\n",
    "H_dev.write('DEVICE.nc')"
   ]
  },
  {
   "cell_type": "code",
   "execution_count": 9,
   "metadata": {},
   "outputs": [],
   "source": [
    "# Calculate device hamiltonian with magnetic field and store dH\n",
    "dH = sisl.Hamiltonian(dev_final, dtype=np.complex128)\n",
    "dH.set_nsc([1,1,1])\n",
    "\n",
    "# Rec_phis: reciprocal phis, reciprocal mesh is advantages because steps scale with 1/B and phi ~ B\n",
    "rec_phis = np.linspace(10,30,21)\n",
    "for rec_phi in rec_phis:\n",
    "    dH.construct(functools.partial(peierls, B=1/rec_phi))\n",
    "    dH = dH - H_dev\n",
    "    with sisl.get_sile('M_{}.dH.nc'.format(rec_phi), mode='w') as fh:\n",
    "        fh.write_delta(dH)"
   ]
  },
  {
   "cell_type": "code",
   "execution_count": 10,
   "metadata": {},
   "outputs": [],
   "source": [
    "# plt.figure(figsize=(4,4), dpi=400)\n",
    "# plt.imshow(dH.Hk(format='array').imag, interpolation='None')\n",
    "# plt.colorbar()"
   ]
  },
  {
   "cell_type": "markdown",
   "metadata": {},
   "source": [
    "### 3. Calculate the transmission with TBtrans\n",
    "\n",
    "The folder of this exercise contains the skeleton of an input file for a 4-lead (RUN-4.fdf) and 6-lead device (RUN-6.fdf), as well as a script to run TBtrans for all values of the magnetic field (run.sh).\n",
    "\n",
    "*Depending on the size of the Hall bar this step might require some a considerable amount of time.*\n",
    "\n",
    "### 4. Extract the Hall resistance $(R_H)$\n",
    "\n",
    "The Hall resistance ($R_H$) in a 4 lead Hall bar like the one shown above is given by\n",
    "\n",
    "$$R_H = \\left.\\frac{V_2-V_3}{I_1}\\right|_{I_2 = I_3 = 0}.$$\n",
    "\n",
    "In order to find a relationship between the transmission curves and the hall resistance, we express the lead currents $I_i$ in terms of applied biases $V_i$ and the transmissions $T_{ij}$ between leads $i$ and $j$\n",
    "$$I_i = \\sum_j G_{ij} (V_i - V_j)\\quad\\text{where}\\quad G_{ij} = \\frac{2e^2}{h} T_{ij}.$$\n",
    "Since the currents only depend on bias differences, we can set one of them to zero without loss of generality (here $V_3 = 0$). This allows us to rewrite the relation as\n",
    "\n",
    "$$\\mathbf{I} = \\mathcal{G} \\mathbf{V}\n",
    "\\quad\\text{, where}\\quad\n",
    "\\mathcal{G}_{ii} = \\sum_{i\\neq j} G_{ij}\n",
    "\\quad\\text{and}\\quad\n",
    "\\mathcal{G}_{ij} = - G_{ij}.$$\n",
    "\n",
    "Using the inverse $\\mathbf{R}$ of $\\mathcal{G}$, we can express $V_2$ and $V_3$ in terms of the lead currents $I_i$ and calculate the Hall conductance:\n",
    "\n",
    "$$\n",
    "V_i = R_{i1} I_1 + R_{i2} I_2 + R_{i3} I_3,\n",
    "$$\n",
    "and finally, we find the Hall resistance:\n",
    "$$\n",
    "R_H = R_{21}-R_{31}\n",
    "$$\n",
    "\n",
    "The derivation for the 6-lead device is analogous and yields:\n",
    "$$\n",
    "R_H = R_{21}-R_{61}\n",
    "$$"
   ]
  },
  {
   "cell_type": "code",
   "execution_count": 11,
   "metadata": {},
   "outputs": [],
   "source": [
    "# Create short-hand function\n",
    "gs = sisl.get_sile\n",
    "# No magnetic field\n",
    "tbt0 = gs('M_0/siesta.TBT.nc')\n",
    "# All magnetic fields in increasing order\n",
    "tbts = [gs('M_{}/siesta.TBT.nc'.format(rec_phi)) for rec_phi in rec_phis]"
   ]
  },
  {
   "cell_type": "code",
   "execution_count": 12,
   "metadata": {},
   "outputs": [],
   "source": [
    "# Create matrix G\n",
    "def Tmatrix (tbtsile, n, E_idx, ref_idx):\n",
    "    mT = np.zeros((E_idx, n, n))\n",
    "    for i in range(n):\n",
    "        for j in range(n):\n",
    "            if i == j: continue\n",
    "            Tij = tbtsile.transmission(i,j)\n",
    "            mT[:,i,j] = -Tij\n",
    "            mT[:,i,i] += Tij\n",
    "    return np.delete(np.delete(mT, ref_idx, axis=2), ref_idx, axis=1)\n",
    "\n",
    "E = tbt0.E\n",
    "n, E_idx, ref_idx = 6, E.shape[0], 2\n",
    "T0 = Tmatrix(tbt0, n, E_idx, ref_idx)\n",
    "\n",
    "T = np.zeros((len(rec_phis), E_idx, n-1, n-1))\n",
    "for i, tbt in enumerate(tbts):\n",
    "    T[i] = Tmatrix(tbt, n, E_idx, ref_idx)"
   ]
  },
  {
   "cell_type": "code",
   "execution_count": 13,
   "metadata": {},
   "outputs": [],
   "source": [
    "# Calculate inverse of G\n",
    "R0 = np.linalg.inv(T0)\n",
    "R = []\n",
    "for i in range(len(rec_phis)):\n",
    "    try:\n",
    "        R.append(np.linalg.inv(T[i]))\n",
    "    except np.linalg.LinAlgError:\n",
    "        R.append(np.zeros((E.shape[0], n-1, n-1)))\n",
    "        \n",
    "R = np.asarray(R)\n",
    "\n",
    "# Extract RH (and longitudial resistance for 6-lead device (R_L))\n",
    "RH = R0[:,1,0] - R0[:,2,0]\n",
    "RL = R0[:,1,0] - R0[:,2,0]\n",
    "RH = R[:,:,1,0] - R[:,:,2,0]\n",
    "RL = R[:,:,1,0] - R[:,:,1,0]"
   ]
  },
  {
   "cell_type": "code",
   "execution_count": 14,
   "metadata": {},
   "outputs": [
    {
     "data": {
      "image/png": "[encoded data removed]",
      "text/plain": [
       "<Figure size 432x432 with 2 Axes>"
      ]
     },
     "metadata": {
      "needs_background": "light"
     },
     "output_type": "display_data"
    }
   ],
   "source": [
    "# Plot the results\n",
    "E_idx = 48\n",
    "phi_idx = 4\n",
    "plt.rcParams.update({'font.size':22})\n",
    "fig, axs = plt.subplots(1,2, sharey=True, figsize=(6,6))#, dpi=300)\n",
    "axs[0].set_title('$\\phi = {:.5f}$'.format(1/rec_phis[phi_idx]))\n",
    "axs[0].plot(E, RH[phi_idx,:], '.-')\n",
    "axs[0].plot(E, RL[phi_idx,:], '.-')\n",
    "axs[0].set_ylim(0,1.2)\n",
    "axs[0].set_ylabel(r'$R_H \\left[h/2e^2\\right]$')\n",
    "axs[0].set_xlabel('$E/t$')\n",
    "axs[1].set_title(f'E = {E[E_idx]:.5f}')\n",
    "axs[1].plot(1/rec_phis, RH[:,E_idx], '.-')\n",
    "axs[1].plot(1/rec_phis, RL[:,E_idx], '.-')\n",
    "axs[1].set_xlabel('$\\phi/\\phi_0$')\n",
    "plt.show()"
   ]
  },
  {
   "cell_type": "code",
   "execution_count": null,
   "metadata": {},
   "outputs": [],
   "source": []
  }
 ],
 "metadata": {
  "kernelspec": {
   "display_name": "Python 3",
   "language": "python",
   "name": "python3"
  },
  "language_info": {
   "codemirror_mode": {
    "name": "ipython",
    "version": 3
   },
   "file_extension": ".py",
   "mimetype": "text/x-python",
   "name": "python",
   "nbconvert_exporter": "python",
   "pygments_lexer": "ipython3",
   "version": "3.8.5"
  }
 },
 "nbformat": 4,
 "nbformat_minor": 2
}
