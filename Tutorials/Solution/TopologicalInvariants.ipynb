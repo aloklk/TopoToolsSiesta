{
 "cells": [
  {
   "cell_type": "code",
   "execution_count": 1,
   "metadata": {},
   "outputs": [],
   "source": [
    "import numpy as np\n",
    "import sisl\n",
    "import z2pack"
   ]
  },
  {
   "cell_type": "markdown",
   "metadata": {},
   "source": [
    "# TI-02: $\\mathbb{Z}_2$ Topological Invariant\n",
    "In this exercise, we will use Z2Pack to calculate the $\\mathbb{Z}_2$ topological invariant of bismuthene. Exercise TI_01 is a prerequisite for this exercise.\n",
    "\n",
    "## Introduction\n",
    "\n",
    "### Hybrid Wannier Charge centres\n",
    "\n",
    "Topological invariants are calculated in Z2Pack [Gresh2017] using Hybrid Wannier Charge Centres (HWCC), who are defined in terms of Hybrid Wannier Functions (HWF). The difference between HWF and Wannier Functions is that the latter is only localized in one direction (for instance, $x$) and delocalized in the others. In 2D, a Hybrid Wannier Function can be written as: \n",
    "\n",
    "\\begin{align}\n",
    "|(R_x,k_y), n\\rangle = \\frac{1}{2\\pi}\\int\\mathrm{d}k_x\\; e^{i k_x R_x}|\\psi_{n,\\mathbf{k}}\\rangle\n",
    "\\end{align}\n",
    "\n",
    "The charge centre of an HWF is defined as the average position of the function in the localized direction. The charge centres are defined modulo the lattice vector $a_x$:\n",
    "\n",
    "\\begin{align}\n",
    "\\bar x_n(k_y) = \\langle (R_x,k_y), n | \\hat{x} | (R_x,k_y), n\\rangle\n",
    "\\end{align}\n",
    "\n",
    "One can think of an HWCC as the charge centre of a Wannier function in a 1D system, coupled to an external parameter $k_y$. In this interpretation, the sum of all HWCCs is directly linked to the 1D electric polarization\n",
    "\\begin{align}\n",
    "\\mathbf{P}^h_e(k_y) = e \\sum_n \\bar x_n(k_y)\n",
    "\\end{align}\n",
    "It should be noted that individual HWCCs are not gauge-invariant. The sum of all HWCCs and $\\mathbf{P}^h_e(k_y)$ are gauge-invariant. \n",
    "\n",
    "### From HWCC to topological invariants\n",
    "#### Chern number\n",
    "\n",
    "Since the HWCCs are defined modulo the lattice vector $R_x$, we can assume periodic boundary conditions $\\bar x(k_y) = \\bar x(k_y) + a_x$. In this way, $\\bar x(k_y)$ can be mapped on a point on the unit circle for any given $k_y$. As $k_y$ goes from 0 to $2\\pi$ the HWCCs and electric polarization $P^h_e$ describe trajectories on a cylinder. The winding number of the trajectory of $P^h_e$ gives the Chern number of the system. \n",
    "\n",
    "A Chern number can also be uniquely associated with any set of **isolated bands** and corresponds to the number of windings of the polarization of the subset of states. The Chern number of the whole system is equal to sum of the individual Chern numbers.\n",
    "\n",
    "\n",
    "\n",
    "|<img src=\"img/FIG_2_Gresch_PhyRevB95_075146_2017.png\" alt=\"Sketch of some possible evolutions of $P^h_e$\" style=\"width: 400px;\"/>|\n",
    "|:---|\n",
    "|Fig 1: Sketch of some possible evolutions of $P^h_e$ from [Gresh2017]|\n",
    "\n",
    "#### Time-reversal invariance and the $\\mathbb{Z}_2$-invariant\n",
    "\n",
    "Under time-reversal symmetry, the Hilbert space of occupied states can be split into two subspaces which are mapped onto each other by time-reversal. This splits all Kramer pairs into states which are assigned to different subspaces. The Chern number $C_1$, $C_2$ of the subspaces are not uniquely defined and depend on which states are assigned to which subspace. However, as a consequence of the Chern number being odd under time-reversal, the two Chern numbers are always opposite $C_1=-C_2$, i.e. the Chern number of the full system is always zero.\n",
    "\n",
    "Further, the two states forming a Kramer pair have to carry opposite Chern numbers. Hence, if the states exchange subspaces, the two Chern numbers can only change by an even number and the $\\mathbb{Z}_2$ invariant\n",
    "\\begin{align}\n",
    "\\mathbb{Z}_2 = (C_1 - C_2)/2 (\\textrm{mod} 2)\n",
    "\\end{align}\n",
    "is well defined.\n",
    "\n",
    "Geometrically the $\\mathbb{Z}_2$ invariant is related to the number of times L any line $f(k_y)$ intersects the trajectory of HWCCs on the interval $[0,2\\pi]$. \n",
    "\n",
    "|<img src=\"img/FIG_5_Gresch_PhyRevB95_075146_2017.png\" alt=\"Sketch of some possible evolutions of HWCCs\" style=\"width: 400px;\"/>|\n",
    "|:---|\n",
    "|Fig :2 Sketch of possible evolutions of HWCCs (red and blue lines) for a system with two occupied bands and time-reversal symmetry. Taken from [Gresh2017]|\n",
    "\n",
    "Note: In Z2Pack $f(k_y)$ is defined as the middle of the largest gap between two neighbouring HWCCs. This choice is favorable for numerical stability.\n",
    "\n",
    "_References for content and images:_\n",
    "\n",
    "[Gresh2017] Dominik Gresch et al., Phys. Rev. B **95**, 075146 (2017), \"Z2Pack: Numerical implementation of hybrid Wannier centres for identifying topological materials\", doi: [10.1103/PhysRevB.95.075146](https://doi.org/10.1103/PhysRevB.95.075146)"
   ]
  },
  {
   "cell_type": "markdown",
   "metadata": {},
   "source": [
    "## Hands-on tutorial\n",
    "\n",
    "In order to run Z2Pack we need to provide information about the Hamiltonian, overlap and the orbital positions.\n",
    "We start off by reading the geometry and hamiltonian from siesta output."
   ]
  },
  {
   "cell_type": "code",
   "execution_count": 2,
   "metadata": {},
   "outputs": [],
   "source": [
    "sile = sisl.get_sile('siesta_work/Bi2D_BHex.fdf')\n",
    "geom = sile.read_geometry()\n",
    "H = sile.read_hamiltonian(geometry=geom)"
   ]
  },
  {
   "cell_type": "markdown",
   "metadata": {},
   "source": [
    "We will create a ``hm`` system in Z2Pack ([doc](http://z2pack.ethz.ch/doc/2.1/reference/hm.html)). This interface expects two functions: one returning the Hamiltonian matrix and one the overlap matrix for any given k-vector.\n"
   ]
  },
  {
   "cell_type": "code",
   "execution_count": 3,
   "metadata": {},
   "outputs": [],
   "source": [
    "Hk = lambda k: H.Hk(k=k, dtype=np.complex64, format='array')\n",
    "Sk = lambda k: H.Sk(k=k, dtype=np.complex64, format='array')"
   ]
  },
  {
   "cell_type": "markdown",
   "metadata": {},
   "source": [
    "Next, we need the positions of all orbitals in fractional coordinates. Note that the matrix elements are ordered in 2x2 blocks corresponding to spin-up and spin-down version of the same basis orbital. So we need to create a list of positions with the same order."
   ]
  },
  {
   "cell_type": "code",
   "execution_count": 4,
   "metadata": {},
   "outputs": [],
   "source": [
    "pos = geom.fxyz[list(map(geom.o2a, np.arange(H.no)))]\n",
    "pos = np.repeat(pos, 2, axis=0)"
   ]
  },
  {
   "cell_type": "markdown",
   "metadata": {},
   "source": [
    "Now we can create the system in Z2Pack. For now, we will only look at the two highest occupied bands. They are degenerate (Kramer degeneracy) and isolated from the rest of the occupied bands, which allows us to uniquely associate a $\\mathbb{Z}_2$ invariant with this pair.\n"
   ]
  },
  {
   "cell_type": "code",
   "execution_count": 5,
   "metadata": {},
   "outputs": [],
   "source": [
    "system_hocc = z2pack.hm.System(\n",
    "        hamilton=Hk,\n",
    "        hermitian_tol=1e-5,\n",
    "        overlap=Sk,\n",
    "        pos=pos,\n",
    "        bands=[28,29],\n",
    ")"
   ]
  },
  {
   "cell_type": "markdown",
   "metadata": {},
   "source": [
    "### Running a HWCC calculation\n",
    "In order to get the $\\mathbb{Z}_2$ invariant, we need to specify \n",
    "1. in which direction the trajectories of the HWF should be evaluated and\n",
    "2. in which direction the HWF are localized\n",
    "\n",
    "This defines a surface in k-space, which is periodic in one direction and covers half of the BZ in the other. To pass this information to Z2Pack, we need to define a function $S$ that is periodic in the second argument and covers half a period in the second argument. The domain is always $[0,1]^2$ and the function has to map onto vectors in reciprocal space (in fractional coordinates).\n",
    "\\begin{align}\n",
    "&S: [0,1]^2 \\rightarrow \\mathbb{R}^3 \\\\\n",
    "&S(s,1) = S(s,0) + \\mathbf{G} \\\\\n",
    "&S(1,t) = S(0,t) + \\frac{1}{2}\\mathbf{G}'\n",
    "\\end{align}\n",
    "\n",
    "In our example we want to calculate the HWCCs along $k_x$ and trace the evolutions for $k_y$ from $0$ to $\\pi$.\n",
    "\\begin{align}\n",
    "&S(s,1) = S(s, 0) + (1, 0, 0) \\\\\n",
    "&S(1,t) = S(0,t) + (0, 0.5, 0)\n",
    "\\end{align}"
   ]
  },
  {
   "cell_type": "code",
   "execution_count": 7,
   "metadata": {},
   "outputs": [],
   "source": [
    "surface=lambda s, t: [t, s/2, 0]"
   ]
  },
  {
   "cell_type": "markdown",
   "metadata": {},
   "source": [
    "There are three diffrent convergence criteria in Z2Pack:\n",
    "1. Positions of the HWCCs on a line: The code checks how much the positions of the HWCCs change as the as more k-points are used. The tolerance for this check is set by the flag ``pos_tol``. If the change is larger than the tolerance more k-points will be use. The numbers of k-point are controlled via the flag ``iterator``. \n",
    "2. Movement of the HWCCs between lines: The code checks how much the position of the HWCCs changes from one line to the next. The tolerance for this check is set by the flag ``move_tol``. If the check fails a new line is added in between. The initial number of lines is controlled via the flag ``num_lines`` and the lower limit for the distance between two line is controll via ``min_neighbour_dis``.\n",
    "3. Gap position: The code check how big the distance between the position of the gap and the position of HWCCs in neighbouring lines are. The tolerance for this check is set by the flag ``gap_tol``. If the check fails a new line is added in between. The initial number of lines is controlled via the flag ``num_lines`` and the lower limit for the distance between two line is controll via ``min_neighbour_dis``."
   ]
  },
  {
   "cell_type": "code",
   "execution_count": 8,
   "metadata": {},
   "outputs": [
    {
     "name": "stdout",
     "output_type": "stream",
     "text": [
      "\n",
      "+----------------------------------------------------------------------+\n",
      "|     \u001b[1m===================\u001b[m                                              |\n",
      "|     \u001b[1mSURFACE CALCULATION\u001b[m                                              |\n",
      "|     \u001b[1m===================\u001b[m                                              |\n",
      "|     starting at 2020-03-02 17:19:55,898                              |\n",
      "|     running Z2Pack version 2.1.1                                     |\n",
      "|                                                                      |\n",
      "|     gap_tol:            0.02                                         |\n",
      "|     init_result:        None                                         |\n",
      "|     iterator:           range(8, 27, 2)                              |\n",
      "|     load:               False                                        |\n",
      "|     load_quiet:         True                                         |\n",
      "|     min_neighbour_dist: 0.01                                         |\n",
      "|     move_tol:           0.3                                          |\n",
      "|     num_lines:          11                                           |\n",
      "|     pos_tol:            0.01                                         |\n",
      "|     save_file:          ./res_hocc.json                              |\n",
      "|     serializer:         auto                                         |\n",
      "|     surface:            <function <lambda> at 0x11ed5e268>           |\n",
      "|     system:             <z2pack.hm.System object at 0x119301c18>     |\n",
      "+----------------------------------------------------------------------+\n",
      "\n",
      "INFO: Adding lines required by 'num_lines'.\n",
      "INFO: Adding line at t = 0.0\n",
      "INFO:       Calculating line for N = 8\n"
     ]
    },
    {
     "ename": "ValueError",
     "evalue": "array must not contain infs or NaNs",
     "output_type": "error",
     "traceback": [
      "\u001b[0;31m---------------------------------------------------------------------------\u001b[0m",
      "\u001b[0;31mValueError\u001b[0m                                Traceback (most recent call last)",
      "\u001b[0;32m<ipython-input-8-f87e69789617>\u001b[0m in \u001b[0;36m<module>\u001b[0;34m\u001b[0m\n\u001b[1;32m     13\u001b[0m     \u001b[0msurface\u001b[0m\u001b[0;34m=\u001b[0m\u001b[0msurface\u001b[0m\u001b[0;34m,\u001b[0m\u001b[0;34m\u001b[0m\u001b[0m\n\u001b[1;32m     14\u001b[0m     \u001b[0msave_file\u001b[0m\u001b[0;34m=\u001b[0m\u001b[0;34m'./res_hocc.json'\u001b[0m\u001b[0;34m,\u001b[0m\u001b[0;34m\u001b[0m\u001b[0m\n\u001b[0;32m---> 15\u001b[0;31m     \u001b[0;34m**\u001b[0m\u001b[0msettings\u001b[0m\u001b[0;34m\u001b[0m\u001b[0m\n\u001b[0m\u001b[1;32m     16\u001b[0m )\n",
      "\u001b[0;32m/usr/local/lib/python3.7/site-packages/z2pack/surface/_run.py\u001b[0m in \u001b[0;36mrun_surface\u001b[0;34m(system, surface, pos_tol, gap_tol, move_tol, num_lines, min_neighbour_dist, iterator, init_result, save_file, load, load_quiet, serializer)\u001b[0m\n\u001b[1;32m    147\u001b[0m         \u001b[0msave_file\u001b[0m\u001b[0;34m=\u001b[0m\u001b[0msave_file\u001b[0m\u001b[0;34m,\u001b[0m\u001b[0;34m\u001b[0m\u001b[0m\n\u001b[1;32m    148\u001b[0m         \u001b[0minit_result\u001b[0m\u001b[0;34m=\u001b[0m\u001b[0minit_result\u001b[0m\u001b[0;34m,\u001b[0m\u001b[0;34m\u001b[0m\u001b[0m\n\u001b[0;32m--> 149\u001b[0;31m         \u001b[0mserializer\u001b[0m\u001b[0;34m=\u001b[0m\u001b[0mserializer\u001b[0m\u001b[0;34m\u001b[0m\u001b[0m\n\u001b[0m\u001b[1;32m    150\u001b[0m     )\n\u001b[1;32m    151\u001b[0m \u001b[0;34m\u001b[0m\u001b[0m\n",
      "\u001b[0;32m/usr/local/Cellar/python/3.7.0/Frameworks/Python.framework/Versions/3.7/lib/python3.7/contextlib.py\u001b[0m in \u001b[0;36minner\u001b[0;34m(*args, **kwds)\u001b[0m\n\u001b[1;32m     72\u001b[0m         \u001b[0;32mdef\u001b[0m \u001b[0minner\u001b[0m\u001b[0;34m(\u001b[0m\u001b[0;34m*\u001b[0m\u001b[0margs\u001b[0m\u001b[0;34m,\u001b[0m \u001b[0;34m**\u001b[0m\u001b[0mkwds\u001b[0m\u001b[0;34m)\u001b[0m\u001b[0;34m:\u001b[0m\u001b[0;34m\u001b[0m\u001b[0m\n\u001b[1;32m     73\u001b[0m             \u001b[0;32mwith\u001b[0m \u001b[0mself\u001b[0m\u001b[0;34m.\u001b[0m\u001b[0m_recreate_cm\u001b[0m\u001b[0;34m(\u001b[0m\u001b[0;34m)\u001b[0m\u001b[0;34m:\u001b[0m\u001b[0;34m\u001b[0m\u001b[0m\n\u001b[0;32m---> 74\u001b[0;31m                 \u001b[0;32mreturn\u001b[0m \u001b[0mfunc\u001b[0m\u001b[0;34m(\u001b[0m\u001b[0;34m*\u001b[0m\u001b[0margs\u001b[0m\u001b[0;34m,\u001b[0m \u001b[0;34m**\u001b[0m\u001b[0mkwds\u001b[0m\u001b[0;34m)\u001b[0m\u001b[0;34m\u001b[0m\u001b[0m\n\u001b[0m\u001b[1;32m     75\u001b[0m         \u001b[0;32mreturn\u001b[0m \u001b[0minner\u001b[0m\u001b[0;34m\u001b[0m\u001b[0m\n\u001b[1;32m     76\u001b[0m \u001b[0;34m\u001b[0m\u001b[0m\n",
      "\u001b[0;32m/usr/local/lib/python3.7/site-packages/z2pack/surface/_run.py\u001b[0m in \u001b[0;36m_run_surface_impl\u001b[0;34m(system, surface, num_lines, min_neighbour_dist, save_file, init_result, serializer, *controls)\u001b[0m\n\u001b[1;32m    275\u001b[0m         \u001b[0m_LOGGER\u001b[0m\u001b[0;34m.\u001b[0m\u001b[0minfo\u001b[0m\u001b[0;34m(\u001b[0m\u001b[0;34m\"Adding lines required by 'num_lines'.\"\u001b[0m\u001b[0;34m)\u001b[0m\u001b[0;34m\u001b[0m\u001b[0m\n\u001b[1;32m    276\u001b[0m         \u001b[0;32mfor\u001b[0m \u001b[0mt\u001b[0m \u001b[0;32min\u001b[0m \u001b[0mnp\u001b[0m\u001b[0;34m.\u001b[0m\u001b[0mlinspace\u001b[0m\u001b[0;34m(\u001b[0m\u001b[0;36m0\u001b[0m\u001b[0;34m,\u001b[0m \u001b[0;36m1\u001b[0m\u001b[0;34m,\u001b[0m \u001b[0mnum_lines\u001b[0m\u001b[0;34m)\u001b[0m\u001b[0;34m:\u001b[0m\u001b[0;34m\u001b[0m\u001b[0m\n\u001b[0;32m--> 277\u001b[0;31m             \u001b[0mresult\u001b[0m \u001b[0;34m=\u001b[0m \u001b[0madd_line\u001b[0m\u001b[0;34m(\u001b[0m\u001b[0mt\u001b[0m\u001b[0;34m)\u001b[0m\u001b[0;34m\u001b[0m\u001b[0m\n\u001b[0m\u001b[1;32m    278\u001b[0m \u001b[0;34m\u001b[0m\u001b[0m\n\u001b[1;32m    279\u001b[0m         \u001b[0;31m# STEP 3 -- MAIN LOOP\u001b[0m\u001b[0;34m\u001b[0m\u001b[0;34m\u001b[0m\u001b[0m\n",
      "\u001b[0;32m/usr/local/lib/python3.7/site-packages/z2pack/surface/_run.py\u001b[0m in \u001b[0;36madd_line\u001b[0;34m(t)\u001b[0m\n\u001b[1;32m    219\u001b[0m \u001b[0;34m\u001b[0m\u001b[0m\n\u001b[1;32m    220\u001b[0m             \u001b[0m_LOGGER\u001b[0m\u001b[0;34m.\u001b[0m\u001b[0minfo\u001b[0m\u001b[0;34m(\u001b[0m\u001b[0;34m'Adding line at t = {}'\u001b[0m\u001b[0;34m.\u001b[0m\u001b[0mformat\u001b[0m\u001b[0;34m(\u001b[0m\u001b[0mt\u001b[0m\u001b[0;34m)\u001b[0m\u001b[0;34m)\u001b[0m\u001b[0;34m\u001b[0m\u001b[0m\n\u001b[0;32m--> 221\u001b[0;31m             \u001b[0mdata\u001b[0m\u001b[0;34m.\u001b[0m\u001b[0madd_line\u001b[0m\u001b[0;34m(\u001b[0m\u001b[0mt\u001b[0m\u001b[0;34m,\u001b[0m \u001b[0mget_line\u001b[0m\u001b[0;34m(\u001b[0m\u001b[0mt\u001b[0m\u001b[0;34m)\u001b[0m\u001b[0;34m)\u001b[0m\u001b[0;34m\u001b[0m\u001b[0m\n\u001b[0m\u001b[1;32m    222\u001b[0m \u001b[0;34m\u001b[0m\u001b[0m\n\u001b[1;32m    223\u001b[0m             \u001b[0;32mreturn\u001b[0m \u001b[0mupdate_result\u001b[0m\u001b[0;34m(\u001b[0m\u001b[0;34m)\u001b[0m\u001b[0;34m\u001b[0m\u001b[0m\n",
      "\u001b[0;32m/usr/local/lib/python3.7/site-packages/z2pack/surface/_run.py\u001b[0m in \u001b[0;36mget_line\u001b[0;34m(t, init_line_result)\u001b[0m\n\u001b[1;32m    192\u001b[0m             \u001b[0msystem\u001b[0m\u001b[0;34m=\u001b[0m\u001b[0msystem\u001b[0m\u001b[0;34m,\u001b[0m\u001b[0;34m\u001b[0m\u001b[0m\n\u001b[1;32m    193\u001b[0m             \u001b[0mline\u001b[0m\u001b[0;34m=\u001b[0m\u001b[0;32mlambda\u001b[0m \u001b[0mky\u001b[0m\u001b[0;34m:\u001b[0m \u001b[0msurface\u001b[0m\u001b[0;34m(\u001b[0m\u001b[0mt\u001b[0m\u001b[0;34m,\u001b[0m \u001b[0mky\u001b[0m\u001b[0;34m)\u001b[0m\u001b[0;34m,\u001b[0m\u001b[0;34m\u001b[0m\u001b[0m\n\u001b[0;32m--> 194\u001b[0;31m             \u001b[0minit_result\u001b[0m\u001b[0;34m=\u001b[0m\u001b[0minit_line_result\u001b[0m\u001b[0;34m\u001b[0m\u001b[0m\n\u001b[0m\u001b[1;32m    195\u001b[0m         )\n\u001b[1;32m    196\u001b[0m \u001b[0;34m\u001b[0m\u001b[0m\n",
      "\u001b[0;32m/usr/local/lib/python3.7/site-packages/z2pack/line/_run.py\u001b[0m in \u001b[0;36m_run_line_impl\u001b[0;34m(system, line, save_file, init_result, serializer, *controls)\u001b[0m\n\u001b[1;32m    200\u001b[0m \u001b[0;34m\u001b[0m\u001b[0m\n\u001b[1;32m    201\u001b[0m         data = DataType(system_fct(\n\u001b[0;32m--> 202\u001b[0;31m             \u001b[0mlist\u001b[0m\u001b[0;34m(\u001b[0m\u001b[0mnp\u001b[0m\u001b[0;34m.\u001b[0m\u001b[0marray\u001b[0m\u001b[0;34m(\u001b[0m\u001b[0mline\u001b[0m\u001b[0;34m(\u001b[0m\u001b[0mk\u001b[0m\u001b[0;34m)\u001b[0m\u001b[0;34m)\u001b[0m \u001b[0;32mfor\u001b[0m \u001b[0mk\u001b[0m \u001b[0;32min\u001b[0m \u001b[0mnp\u001b[0m\u001b[0;34m.\u001b[0m\u001b[0mlinspace\u001b[0m\u001b[0;34m(\u001b[0m\u001b[0;36m0.\u001b[0m\u001b[0;34m,\u001b[0m \u001b[0;36m1.\u001b[0m\u001b[0;34m,\u001b[0m \u001b[0mrun_options\u001b[0m\u001b[0;34m[\u001b[0m\u001b[0;34m'num_steps'\u001b[0m\u001b[0;34m]\u001b[0m\u001b[0;34m)\u001b[0m\u001b[0;34m)\u001b[0m\u001b[0;34m\u001b[0m\u001b[0m\n\u001b[0m\u001b[1;32m    203\u001b[0m         ))\n\u001b[1;32m    204\u001b[0m \u001b[0;34m\u001b[0m\u001b[0m\n",
      "\u001b[0;32m/usr/local/lib/python3.7/site-packages/z2pack/hm.py\u001b[0m in \u001b[0;36mget_eig\u001b[0;34m(self, kpt)\u001b[0m\n\u001b[1;32m     99\u001b[0m             \u001b[0mham\u001b[0m \u001b[0;34m=\u001b[0m \u001b[0mself\u001b[0m\u001b[0;34m.\u001b[0m\u001b[0m_hamilton\u001b[0m\u001b[0;34m(\u001b[0m\u001b[0mk\u001b[0m\u001b[0;34m)\u001b[0m\u001b[0;34m\u001b[0m\u001b[0m\n\u001b[1;32m    100\u001b[0m             \u001b[0;32mif\u001b[0m \u001b[0mself\u001b[0m\u001b[0;34m.\u001b[0m\u001b[0m_hermitian_tol\u001b[0m \u001b[0;32mis\u001b[0m \u001b[0;32mnot\u001b[0m \u001b[0;32mNone\u001b[0m\u001b[0;34m:\u001b[0m\u001b[0;34m\u001b[0m\u001b[0m\n\u001b[0;32m--> 101\u001b[0;31m                 \u001b[0mdiff\u001b[0m \u001b[0;34m=\u001b[0m \u001b[0mla\u001b[0m\u001b[0;34m.\u001b[0m\u001b[0mnorm\u001b[0m\u001b[0;34m(\u001b[0m\u001b[0mham\u001b[0m \u001b[0;34m-\u001b[0m \u001b[0mham\u001b[0m\u001b[0;34m.\u001b[0m\u001b[0mconjugate\u001b[0m\u001b[0;34m(\u001b[0m\u001b[0;34m)\u001b[0m\u001b[0;34m.\u001b[0m\u001b[0mtranspose\u001b[0m\u001b[0;34m(\u001b[0m\u001b[0;34m)\u001b[0m\u001b[0;34m,\u001b[0m \u001b[0mord\u001b[0m\u001b[0;34m=\u001b[0m\u001b[0mnp\u001b[0m\u001b[0;34m.\u001b[0m\u001b[0minf\u001b[0m\u001b[0;34m)\u001b[0m\u001b[0;34m\u001b[0m\u001b[0m\n\u001b[0m\u001b[1;32m    102\u001b[0m                 \u001b[0;32mif\u001b[0m \u001b[0mdiff\u001b[0m \u001b[0;34m>\u001b[0m \u001b[0mself\u001b[0m\u001b[0;34m.\u001b[0m\u001b[0m_hermitian_tol\u001b[0m\u001b[0;34m:\u001b[0m\u001b[0;34m\u001b[0m\u001b[0m\n\u001b[1;32m    103\u001b[0m                     raise ValueError(\n",
      "\u001b[0;32m/usr/local/lib/python3.7/site-packages/scipy/linalg/misc.py\u001b[0m in \u001b[0;36mnorm\u001b[0;34m(a, ord, axis, keepdims)\u001b[0m\n\u001b[1;32m    135\u001b[0m     \"\"\"\n\u001b[1;32m    136\u001b[0m     \u001b[0;31m# Differs from numpy only in non-finite handling and the use of blas.\u001b[0m\u001b[0;34m\u001b[0m\u001b[0;34m\u001b[0m\u001b[0m\n\u001b[0;32m--> 137\u001b[0;31m     \u001b[0ma\u001b[0m \u001b[0;34m=\u001b[0m \u001b[0mnp\u001b[0m\u001b[0;34m.\u001b[0m\u001b[0masarray_chkfinite\u001b[0m\u001b[0;34m(\u001b[0m\u001b[0ma\u001b[0m\u001b[0;34m)\u001b[0m\u001b[0;34m\u001b[0m\u001b[0m\n\u001b[0m\u001b[1;32m    138\u001b[0m \u001b[0;34m\u001b[0m\u001b[0m\n\u001b[1;32m    139\u001b[0m     \u001b[0;31m# Only use optimized norms if axis and keepdims are not specified.\u001b[0m\u001b[0;34m\u001b[0m\u001b[0;34m\u001b[0m\u001b[0m\n",
      "\u001b[0;32m/usr/local/lib/python3.7/site-packages/numpy/lib/function_base.py\u001b[0m in \u001b[0;36masarray_chkfinite\u001b[0;34m(a, dtype, order)\u001b[0m\n\u001b[1;32m    459\u001b[0m     \u001b[0;32mif\u001b[0m \u001b[0ma\u001b[0m\u001b[0;34m.\u001b[0m\u001b[0mdtype\u001b[0m\u001b[0;34m.\u001b[0m\u001b[0mchar\u001b[0m \u001b[0;32min\u001b[0m \u001b[0mtypecodes\u001b[0m\u001b[0;34m[\u001b[0m\u001b[0;34m'AllFloat'\u001b[0m\u001b[0;34m]\u001b[0m \u001b[0;32mand\u001b[0m \u001b[0;32mnot\u001b[0m \u001b[0mnp\u001b[0m\u001b[0;34m.\u001b[0m\u001b[0misfinite\u001b[0m\u001b[0;34m(\u001b[0m\u001b[0ma\u001b[0m\u001b[0;34m)\u001b[0m\u001b[0;34m.\u001b[0m\u001b[0mall\u001b[0m\u001b[0;34m(\u001b[0m\u001b[0;34m)\u001b[0m\u001b[0;34m:\u001b[0m\u001b[0;34m\u001b[0m\u001b[0m\n\u001b[1;32m    460\u001b[0m         raise ValueError(\n\u001b[0;32m--> 461\u001b[0;31m             \"array must not contain infs or NaNs\")\n\u001b[0m\u001b[1;32m    462\u001b[0m     \u001b[0;32mreturn\u001b[0m \u001b[0ma\u001b[0m\u001b[0;34m\u001b[0m\u001b[0m\n\u001b[1;32m    463\u001b[0m \u001b[0;34m\u001b[0m\u001b[0m\n",
      "\u001b[0;31mValueError\u001b[0m: array must not contain infs or NaNs"
     ]
    }
   ],
   "source": [
    "# Run the WCC calculations\n",
    "settings = {'num_lines': 11,\n",
    "            'pos_tol': 1e-2,\n",
    "            'gap_tol': 2e-2,\n",
    "            'move_tol': 0.3,\n",
    "            'iterator': range(8, 27, 2),\n",
    "            'min_neighbour_dist': 1e-2,\n",
    "            'load': False,\n",
    "}\n",
    "\n",
    "result_hocc = z2pack.surface.run(\n",
    "    system=system_hocc,\n",
    "    surface=surface,\n",
    "    save_file='./res_hocc.json',\n",
    "    **settings\n",
    ")"
   ]
  },
  {
   "cell_type": "code",
   "execution_count": null,
   "metadata": {},
   "outputs": [],
   "source": [
    "print(\"Z2 invariant of the two highest, occupied bands: {}\".format(z2pack.invariant.z2(result_hocc)))"
   ]
  },
  {
   "cell_type": "markdown",
   "metadata": {},
   "source": [
    "We can visualize the HWCCs and the gap position:"
   ]
  },
  {
   "cell_type": "code",
   "execution_count": null,
   "metadata": {},
   "outputs": [],
   "source": [
    "import matplotlib.pyplot as plt\n",
    "%matplotlib inline\n",
    "\n",
    "fig, ax = plt.subplots(1, 1, figsize=(8,5))\n",
    "wcc_settings={'s': 50., 'lw': 1., 'facecolor': 'none', 'edgecolors': 'k', 'label':'HWCC'}\n",
    "gap_settings={'marker': 'D', 'color': 'b', 'linestyle': '--', 'label':'Gap position'}\n",
    "\n",
    "z2pack.plot.wcc(result_hocc, axis=ax, wcc_settings=wcc_settings, gap_settings=gap_settings)\n",
    "ax.set_title('Bands 29, 30', fontsize=14)\n",
    "ax.set_ylabel(r'$\\bar{x} [a_x]$', fontsize=14)\n",
    "ax.set_xlabel(r'$k_y [\\pi/a_y]$', fontsize=14)\n",
    "handles, labels = fig.gca().get_legend_handles_labels()\n",
    "by_label = dict(zip(labels, handles))\n",
    "fig.legend(by_label.values(), by_label.keys())\n",
    "plt.show()"
   ]
  },
  {
   "cell_type": "markdown",
   "metadata": {},
   "source": [
    "## Exercises\n",
    "1. To get a feeling for the different options, one should play with them. Use a small number of lines and try different combinations of parameters. Even if a calculation did not converge, the HWCCs can be visualized. This allows us to see why a certain convergence check failed.\n",
    "\n",
    "2. Calculate the $\\mathbb{Z}_2$ invariant for the whole system. In the last exercise (TI-01) we visualized the band structure. We can go back and adjust the range on the y-axis to get an idea of which sets of bands are isolated from others. There are different ways of splitting bands in sets, but all should give the same invariant when they are summed.\n",
    "\n",
    "   _Hint: Running a calculation with all 30 bands, might be tricky to converge._"
   ]
  },
  {
   "cell_type": "markdown",
   "metadata": {},
   "source": [
    "### 2 a) Running the 28 lower bands at once:"
   ]
  },
  {
   "cell_type": "code",
   "execution_count": null,
   "metadata": {},
   "outputs": [],
   "source": [
    "system_lower = z2pack.hm.System(\n",
    "        hamilton=Hk,\n",
    "        hermitian_tol=1e-5,\n",
    "        overlap=Sk,\n",
    "        pos=pos,\n",
    "        bands=range(28),\n",
    ")\n",
    "settings = {'num_lines': 11,\n",
    "            'pos_tol': 1e-2,\n",
    "            'gap_tol': 2e-2,\n",
    "            'move_tol': 0.3,\n",
    "            'iterator': range(8, 58, 2),\n",
    "            'min_neighbour_dist': 1e-3,\n",
    "            'load': False,\n",
    "}\n",
    "\n",
    "result_lower = z2pack.surface.run(\n",
    "    system=system_lower,\n",
    "    surface=surface,\n",
    "    save_file='./res_lower.json',\n",
    "    **settings\n",
    ")"
   ]
  },
  {
   "cell_type": "code",
   "execution_count": null,
   "metadata": {},
   "outputs": [],
   "source": [
    "print(\"Z2 invariant of the 28 lowest bands: {}\".format(\n",
    "    z2pack.invariant.z2(result_lower)\n",
    "))\n",
    "print(\"Z2 invariant of the full system : {}\".format(\n",
    "    (z2pack.invariant.z2(result_hocc)\n",
    "     + z2pack.invariant.z2(result_lower)) % 2\n",
    "))"
   ]
  },
  {
   "cell_type": "markdown",
   "metadata": {},
   "source": [
    "### 2 b) Running every Kramer pair (including (28,29))"
   ]
  },
  {
   "cell_type": "code",
   "execution_count": null,
   "metadata": {},
   "outputs": [],
   "source": [
    "settings = {'num_lines': 11,\n",
    "            'pos_tol': 1e-2,\n",
    "            'gap_tol': 2e-2,\n",
    "            'move_tol': 0.3,\n",
    "            'iterator': range(8, 27, 2),\n",
    "            'min_neighbour_dist': 1e-2,\n",
    "            'load': False,\n",
    "}\n",
    "\n",
    "n_pairs = 15\n",
    "Z2 = np.zeros((n_pairs,), dtype=int)\n",
    "for i in range(n_pairs):\n",
    "    system = z2pack.hm.System(\n",
    "            hamilton=Hk,\n",
    "            hermitian_tol=1e-5,\n",
    "            overlap=Sk,\n",
    "            pos=pos,\n",
    "            bands=[2*i, 2*i+1],\n",
    "    )\n",
    "\n",
    "    result = z2pack.surface.run(\n",
    "        system=system,\n",
    "        surface=surface,\n",
    "        **settings\n",
    "    )\n",
    "    Z2[i] = z2pack.invariant.z2(result)\n",
    "\n"
   ]
  },
  {
   "cell_type": "code",
   "execution_count": null,
   "metadata": {},
   "outputs": [],
   "source": [
    "for i in range(n_pairs):\n",
    "    print(\"({: 3d}, {: 3d}): {:1d}\".format(2*i+1, 2*i+2, Z2[i]))\n",
    "print('-'*13)\n",
    "print('       Sum: {:1d}'.format(np.sum(Z2) % 2))"
   ]
  },
  {
   "cell_type": "code",
   "execution_count": null,
   "metadata": {},
   "outputs": [],
   "source": []
  }
 ],
 "metadata": {
  "kernelspec": {
   "display_name": "Python 3",
   "language": "python",
   "name": "python3"
  },
  "language_info": {
   "codemirror_mode": {
    "name": "ipython",
    "version": 3
   },
   "file_extension": ".py",
   "mimetype": "text/x-python",
   "name": "python",
   "nbconvert_exporter": "python",
   "pygments_lexer": "ipython3",
   "version": "3.7.0"
  }
 },
 "nbformat": 4,
 "nbformat_minor": 2
}
