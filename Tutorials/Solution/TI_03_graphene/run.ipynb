{
 "cells": [
  {
   "cell_type": "code",
   "execution_count": 1,
   "metadata": {},
   "outputs": [],
   "source": [
    "import sisl\n",
    "import numpy as np\n",
    "import matplotlib.pyplot as plt\n",
    "%matplotlib inline\n",
    "import functools"
   ]
  },
  {
   "cell_type": "markdown",
   "metadata": {},
   "source": [
    "# TI-03: Quantum Hall Effect\n",
    "In this exercise, we will build on **TB_07** and **A_03** to simulate the quantum Hall effect. In **A_03**, we learned how to created a Hall bar device and in **TB_07**, how to deal with magnetic fields.\n",
    "\n",
    "Here, we will extract the Hall resistance from the transmissions calculated with `TBtrans` using the Landauer-Büttiker formalism.\n",
    "\n",
    "## Exercise Overview:\n",
    "1. Create a Hall bar (see **A_03**)\n",
    "2. Construct Hamiltonians and add magnetic fields (see **TB_07**)\n",
    "3. Calculate the transmission with `TBtrans`\n",
    "4. Extract the Hall resistance $(R_H)$.\n",
    "4. Extract the logitudinal resistance $(R_L)$.\n",
    "\n",
    "## Exercise"
   ]
  },
  {
   "cell_type": "markdown",
   "metadata": {},
   "source": [
    "### 1. Create a Hall bar\n",
    "In order to be able to observe the quantum Hall effect, the size of the Hall bar needs to be big enough. For a 4(6) lead device reasonable dimensions are: \n",
    "1. 4-lead device (square lattice):\n",
    "   - Width of electrodes (perpendicular to the semi-infinite axis): 30 atoms\n",
    "   - Offset of the electrodes 2(3) from the corner of the central part: >= 5 atoms\n",
    "\n",
    "\n",
    "2. 6-lead device (square lattice): \n",
    "   - Width of electrodes (perpendicular to the semi-infinite axis): 30 atoms\n",
    "   - Spacing between electrodes on the same side: 50 atoms\n",
    "   - Offset of the electrodes 2(3,5,6) from the corner of the central part: > 25 atoms\n",
    " \n",
    "\n",
    "3. 6-lead Graphene Hall bar:\n",
    "   - Width of electrodes (perpendicular to the semi-infinite axis): ~30 Å\n",
    "   - Spacing between electrodes on the same side: ~50 Å\n",
    "   - Offset of the electrodes 2(3,5,6) from the corner of the central part: ~ 15 Å\n",
    "   \n",
    "|4-lead device |6-lead device |\n",
    "|:-------------|:-------------|\n",
    "|<img src=\"img/set-up-4.png\" alt=\"4 lead Hall bar\" style=\"width: 310px;\"/>|<img src=\"img/set-up-6.png\" alt=\"6 lead Hall bar\" style=\"width: 490px;\"/>|"
   ]
  },
  {
   "cell_type": "code",
   "execution_count": 2,
   "metadata": {},
   "outputs": [],
   "source": [
    "graphene = sisl.geom.graphene(orthogonal=True)"
   ]
  },
  {
   "cell_type": "code",
   "execution_count": 16,
   "metadata": {},
   "outputs": [],
   "source": [
    "el_width = 20 # Width of the electrode (perpendicular to semi-inf. direction)\n",
    "el_length = 1 # Length of the electrode (in the semi-inf. direction)\n",
    "el_offx = 5   # Offset along x-axis of electrodes from the corners of the device \n",
    "el_offy = 0  # Offset along y-axis of electrodes from the corners of the device\n",
    "el_pad = 12   # Distance between electrodes (only for 6-lead device)\n",
    "\n",
    "\n",
    "el_x = sisl.geom.agnr(2*el_width-1)\n",
    "el_y = sisl.geom.zgnr(el_width)\n",
    "el_y = sisl.Geometry(el_y.xyz[:,[1,0,2]],\n",
    "                     atoms=el_y.atoms,\n",
    "                     sc=el_y.sc.swapaxes(0, 1).cell[:,[1,0,2]])\n",
    "el_btm = el_y.copy()\n",
    "el_top = el_y.mirror('y').move(el_y.cell[1]/2).sort(lattice=(0,1))\n",
    "el_x.write('ELEC_x.xsf')\n",
    "el_top.write('ELEC_top.xsf')\n",
    "el_btm.write('ELEC_btm.xsf')\n",
    "# ! explorer.exe ELEC_x.xsf\n",
    "# ! explorer.exe ELEC_top.xsf\n",
    "# ! explorer.exe ELEC_btm.xsf"
   ]
  },
  {
   "cell_type": "markdown",
   "metadata": {},
   "source": [
    "#### 4-lead device"
   ]
  },
  {
   "cell_type": "code",
   "execution_count": 33,
   "metadata": {},
   "outputs": [
    {
     "name": "stdout",
     "output_type": "stream",
     "text": [
      "1) Elec.Left\n",
      "\t electrode-position 1483\n",
      "2) Elec.Bottom\n",
      "\t  electrode-position 1561\n",
      "312 [17.04        1.22975607  0.        ] 0 [10.  0.  0.]\n",
      "350 [17.75       46.73073079  0.        ] 0 [10.          1.22975607  0.        ]\n",
      "3) Elec.Top\n",
      "\t  electrode-position end 1640\n",
      "1404 [76.68        1.22975607  0.        ] 0 [10.  0.  0.]\n",
      "4) Elec.Right\n",
      "\t  electrode-position end 1718\n"
     ]
    }
   ],
   "source": [
    "nx = el_width//2 + 2*el_offx - 1\n",
    "ny = 2*el_width-1 + 2*el_offy\n",
    "center = sisl.geom.agnr(ny, atoms='N').tile(nx, axis=0)\n",
    "\n",
    "# Create space for the electrode regions\n",
    "dev = center.add_vacuum(10, axis=0).add_vacuum(10, axis=1)\n",
    "dev = dev.move(-np.min(dev.xyz, axis=0))\n",
    "\n",
    "# Attach the electrodes\n",
    "print(\"1) Elec.Left\\n\\t electrode-position\", dev.no+1)\n",
    "el_idx = 0\n",
    "dev_idx = el_offy//2\n",
    "dist = -el_x.cell[0]\n",
    "# print(dev_idx, dev.xyz[dev_idx], el_idx, el_btm[el_idx])\n",
    "dev = dev.attach(dev_idx, el_x, el_idx, dist=dist)\n",
    "\n",
    "print(\"2) Elec.Bottom\\n\\t  electrode-position\", dev.no+1)\n",
    "el_idx = 0\n",
    "dev_idx = 2 * (el_offx-1) * ny\n",
    "dist = 1/2*el_x.cell[0]-1.5*el_btm.cell[1]\n",
    "print(dev_idx, dev.xyz[dev_idx], el_idx, el_btm[el_idx])\n",
    "dev = dev.attach(dev_idx, el_btm, el_idx, dist=dist)\n",
    "\n",
    "el_idx = 0\n",
    "dev_idx = 2 * (el_offx-1) * ny + ny - 1\n",
    "dist = 1/3*el_x.cell[0]+el_btm.cell[1]\n",
    "print(dev_idx, dev.xyz[dev_idx], el_idx, el_top[el_idx])\n",
    "dev = dev.attach(dev_idx, el_top, el_idx, dist=dist)\n",
    "print(\"3) Elec.Top\\n\\t  electrode-position end\", dev.no)\n",
    "\n",
    "el_idx = 0\n",
    "dev_idx = center.na - ny*2 + el_offy//2\n",
    "dist = el_x.cell[0]\n",
    "print(dev_idx, dev.xyz[dev_idx], el_idx, el_btm[el_idx])\n",
    "dev = dev.attach(dev_idx, el_x, el_idx, dist=dist)\n",
    "print(\"4) Elec.Right\\n\\t  electrode-position end\", dev.no)\n",
    "\n",
    "# dev_final = dev\n",
    "dev = dev.move(dev.center(what='cell') - dev.center(what='mass'))\n",
    "dev.write('DEVICE.xsf')\n",
    "! explorer.exe DEVICE.xsf"
   ]
  },
  {
   "cell_type": "markdown",
   "metadata": {},
   "source": [
    "#### 6-lead device"
   ]
  },
  {
   "cell_type": "code",
   "execution_count": 38,
   "metadata": {},
   "outputs": [
    {
     "name": "stdout",
     "output_type": "stream",
     "text": [
      "1) Elec.Left\n",
      "\t electrode-position 3199\n",
      "2) Elec.BottomLeft\n",
      "\t  electrode-position 3277\n",
      "3) Elec.BottomRight\n",
      "\t  electrode-position 3317\n",
      "4) Elec.Right\n",
      "\t  electrode-position end 3434\n",
      "5) Elec.TopRight\n",
      "\t  electrode-position end 3474\n",
      "6) Elec.TopLeft\n",
      "\t  electrode-position end 3514\n"
     ]
    }
   ],
   "source": [
    "nx = el_width + el_pad + 2*el_offx - 1\n",
    "ny = 2*el_width-1 + 2*el_offy\n",
    "center = sisl.geom.agnr(ny, atoms='N').tile(nx, axis=0)\n",
    "\n",
    "# Create space for the electrode regions\n",
    "dev = center.add_vacuum(20, axis=0).add_vacuum(10, axis=1)\n",
    "dev = dev.move(-np.min(dev.xyz, axis=0))\n",
    "\n",
    "# Attach the electrodes\n",
    "print(\"1) Elec.Left\\n\\t electrode-position\", dev.no+1)\n",
    "el_idx = 0\n",
    "dev_idx = el_offy//2\n",
    "dist = -el_x.cell[0]\n",
    "# print(dev_idx, dev.xyz[dev_idx], el_idx, el_btm[el_idx])\n",
    "dev = dev.attach(dev_idx, el_x, el_idx, dist=dist)\n",
    "\n",
    "print(\"2) Elec.BottomLeft\\n\\t  electrode-position\", dev.no+1)\n",
    "el_idx = 0\n",
    "dev_idx = 2 * (el_offx-1) * ny\n",
    "dist = 1/2*el_x.cell[0]-1.5*el_btm.cell[1]\n",
    "# print(dev_idx, dev.xyz[dev_idx], el_idx, el_btm[el_idx])\n",
    "dev = dev.attach(dev_idx, el_btm, el_idx, dist=dist)\n",
    "\n",
    "print(\"3) Elec.BottomRight\\n\\t  electrode-position\", dev.no+1)\n",
    "el_idx = 0\n",
    "dev_idx = (2 * (el_offx + el_pad - 1) + el_width) * ny\n",
    "dist = 1/2*el_x.cell[0]-1.5*el_btm.cell[1]\n",
    "# print(dev_idx, dev.xyz[dev_idx], el_idx, el_btm[el_idx])\n",
    "dev = dev.attach(dev_idx, el_btm, el_idx, dist=dist)\n",
    "\n",
    "el_idx = 0\n",
    "dev_idx = center.na - ny*2 + el_offy//2\n",
    "dist = el_x.cell[0]\n",
    "# print(dev_idx, dev.xyz[dev_idx], el_idx, el_btm[el_idx])\n",
    "dev = dev.attach(dev_idx, el_x, el_idx, dist=dist)\n",
    "print(\"4) Elec.Right\\n\\t  electrode-position end\", dev.no)\n",
    "\n",
    "dev_idx = center.na - ny*2 + el_offy//2\n",
    "dev_idx = (2 * (el_offx + el_pad - 1) + el_width) * ny + ny - 1\n",
    "dist = 1/3*el_x.cell[0]+el_btm.cell[1]\n",
    "# print(dev_idx, dev.xyz[dev_idx], el_idx, el_top[el_idx])\n",
    "dev = dev.attach(dev_idx, el_top, el_idx, dist=dist)\n",
    "print(\"5) Elec.TopRight\\n\\t  electrode-position end\", dev.no)\n",
    "\n",
    "el_idx = 0\n",
    "dev_idx = 2 * (el_offx-1) * ny + ny - 1\n",
    "dist = 1/3*el_x.cell[0]+el_btm.cell[1]\n",
    "# print(dev_idx, dev.xyz[dev_idx], el_idx, el_top[el_idx])\n",
    "dev = dev.attach(dev_idx, el_top, el_idx, dist=dist)\n",
    "print(\"6) Elec.TopLeft\\n\\t  electrode-position end\", dev.no)\n",
    "\n",
    "\n",
    "# dev_final = dev\n",
    "dev = dev.move(dev.center(what='cell') - dev.center(what='mass'))\n",
    "dev.write('DEVICE.xsf')\n",
    "! explorer.exe DEVICE.xsf"
   ]
  },
  {
   "cell_type": "markdown",
   "metadata": {},
   "source": [
    "### 2. Construct Hamiltonian and add magnetic fields\n",
    "\n",
    "The required field strengths may vary depending on the size of the Hall bar. We should start with a corse grid, and create a finer grid once we have identified the correct range. A good starting point might by `B = 1 / np.arange(10,31)`."
   ]
  },
  {
   "cell_type": "code",
   "execution_count": 6,
   "metadata": {},
   "outputs": [],
   "source": [
    "def peierls(self, ia, atoms, atoms_xyz=None, B=None, nnR=1.01):\n",
    "    idx = self.geometry.close(ia, R=[0.1, nnR], atoms=atoms, atoms_xyz=atoms_xyz)\n",
    "    # Onsite\n",
    "    self[ia, idx[0]] = 0\n",
    "    \n",
    "    # Hopping\n",
    "    if B == 0:\n",
    "        self[ia, idx[1]] = -1\n",
    "    else:\n",
    "        xyz = self.geometry.xyz[ia]\n",
    "        dxyz = self.geometry[idx[1]]\n",
    "        self[ia, idx[1]] = - np.exp(-0.5j * B * (dxyz[:, 0] - xyz[0])*(dxyz[:,1] + xyz[1]))"
   ]
  },
  {
   "cell_type": "code",
   "execution_count": 7,
   "metadata": {},
   "outputs": [],
   "source": [
    "# Create Hamiltonian for the electrodes\n",
    "H_el = sisl.Hamiltonian(el_x, dtype=np.float64)\n",
    "H_el.set_nsc([3,1,1])\n",
    "H_el.construct(functools.partial(peierls, B=0., nnR=1.43))\n",
    "H_el.write('ELEC_x.nc')\n",
    "\n",
    "H_el = sisl.Hamiltonian(el_btm, dtype=np.float64)\n",
    "H_el.set_nsc([1,3,1])\n",
    "H_el.construct(functools.partial(peierls, B=0., nnR=1.43))\n",
    "H_el.write('ELEC_btm.nc')\n",
    "\n",
    "H_el = sisl.Hamiltonian(el_top, dtype=np.float64)\n",
    "H_el.set_nsc([1,3,1])\n",
    "H_el.construct(functools.partial(peierls, B=0., nnR=1.43))\n",
    "H_el.write('ELEC_top.nc')"
   ]
  },
  {
   "cell_type": "code",
   "execution_count": 8,
   "metadata": {},
   "outputs": [],
   "source": [
    "# Create device Hamiltonian without magnetic field\n",
    "H_dev = sisl.Hamiltonian(dev, dtype=np.float64)\n",
    "H_dev.set_nsc([1,1,1])\n",
    "H_dev.construct(functools.partial(peierls, B=0, nnR=1.43))\n",
    "H_dev.write('DEVICE.nc')"
   ]
  },
  {
   "cell_type": "code",
   "execution_count": 9,
   "metadata": {},
   "outputs": [],
   "source": [
    "# Calculate device Hamiltonian with magnetic field and store dH\n",
    "dH = sisl.Hamiltonian(dev, dtype=np.complex128)\n",
    "dH.set_nsc([1,1,1])\n",
    "\n",
    "# Rec_phis: reciprocal phis, reciprocal mesh is advantages because steps scale with 1/B and phi ~ B\n",
    "rec_phis = np.linspace(10,100,91)\n",
    "# for rec_phi in rec_phis:\n",
    "#     dH.construct(functools.partial(peierls, B=1/rec_phi, nnR=1.43))\n",
    "#     dH = dH - H_dev\n",
    "#     with sisl.get_sile('M_{}.dH.nc'.format(rec_phi), mode='w') as fh:\n",
    "#         fh.write_delta(dH)"
   ]
  },
  {
   "cell_type": "code",
   "execution_count": 10,
   "metadata": {},
   "outputs": [],
   "source": [
    "# plt.figure(figsize=(4,4), dpi=400)\n",
    "# plt.imshow(dH.Hk(format='array').imag, interpolation='None')\n",
    "# plt.colorbar()"
   ]
  },
  {
   "cell_type": "markdown",
   "metadata": {},
   "source": [
    "### 3. Calculate the transmission with TBtrans\n",
    "\n",
    "The folder of this exercise contains the skeleton of an input file for a 4-lead (RUN-4.fdf) and 6-lead device (RUN-6.fdf), as well as a script to run TBtrans for all values of the magnetic field (run.sh).\n",
    "\n",
    "*Depending on the size of the Hall bar, this step might require a considerable amount of time.*\n",
    "\n",
    "### 4. Extract the Hall resistance $(R_H)$\n",
    "\n",
    "In Hall effect we measure the build up of a potential difference between the measurement electrodes as response to an electric current. The Hall resistance ($R_H$) in a 4 lead Hall bar like the one shown above is given by\n",
    "\n",
    "$$R_H = \\left.\\frac{V_2-V_3}{I_1}\\right|_{I_2 = I_3 = 0}.$$\n",
    "\n",
    "In `TBtrans` the chemical potentials of all electrodes can be specified and the currents are calculated as a response to the biases. Rather than trying many combinations of chemical potentials to find the Hall resistance, we use transmission curves to calculate $R_H$.\n",
    "\n",
    "To start, we express the lead currents $I_i$ in terms of applied biases $V_i$ and the transmissions $T_{ij}$ between leads $i$ and $j$\n",
    "$$I_i = \\sum_j G_{ij} (V_i - V_j)\\quad\\text{where}\\quad G_{ij} = \\frac{2e^2}{h} T_{ij}.$$\n",
    "We rewrite this relation as\n",
    "\n",
    "$$\\mathbf{I} = \\mathcal{G} \\mathbf{V}\n",
    "\\quad\\text{, where}\\quad\n",
    "\\mathcal{G}_{ii} = \\sum_{i\\neq j} G_{ij}\n",
    "\\quad\\text{and}\\quad\n",
    "\\mathcal{G}_{ij} = - G_{ij}.$$\n",
    "\n",
    "Since the currents only depend on bias differences, we can set one of them to zero without loss of generality (here $V_4 = 0$ ). Further, Kirchhoff's current law allow us to eliminate one of current (here $I_4=-I_1-I_2-I_3$). This leaves us with an invertible $3\\times3$ matrix equation. \n",
    "\n",
    "Using the inverse $\\mathbf{R}$ of $\\mathcal{G}$, we can express $V_2$ and $V_3$ in terms of the lead currents $I_i$ and calculate the Hall conductance:\n",
    "\n",
    "$$\n",
    "\\mathbf{V} = \\mathcal{G}^{-1}\\mathbf{I} = \\mathbf{R} \\mathbf{I}\\quad\\Rightarrow\\quad\n",
    "V_i = R_{i1} I_1 + R_{i2} I_2 + R_{i3} I_3,\n",
    "$$\n",
    "\n",
    "and finally, we find the Hall resistance:\n",
    "\n",
    "$$\\begin{align}\n",
    "R_H &= \\left.\\frac{R_{21}I_1+R_{22}I_2 + R_{23}I_3-(R_{31}I_1+R_{32}I_2 + R_{33}I_3)}{I_1}\\right|_{I_2 = I_3 = 0} \\\\\n",
    "&= R_{21}-R_{31}\n",
    "\\end{align}$$\n",
    "\n",
    "The derivation for the 6-lead device is analogous and yields:\n",
    "$$\n",
    "R_H = R_{21}-R_{61}\n",
    "$$\n",
    "\n",
    "<br>\n",
    "<br>\n",
    "<br>\n",
    "\n",
    "*If everything is set up correctly, the quantization of the Hall resistance should be visible.*\n",
    "$$\\begin{align}\n",
    "R_H &= \\frac{h}{2ne^2}  &&\\text{for square lattice Hall bar} & n\\in\\mathbb{N}\\\\\n",
    "R_H &= \\frac{h}{2(2n-1)e^2} &&\\text{for graphene Hall bar}   & n\\in\\mathbb{N}\n",
    "\\end{align}$$\n",
    "\n",
    "### 5. Extract longitudinal resistance $R_L$\n",
    "The longitudinal resistance can be extracted using the same approach used for the Hall resistance. With a 6-lead Hall bar we can replace the $V_3$ with $V_6$ and get it immediately.\n",
    "\n",
    "$$\n",
    "R_L = R_{21} - R_{31}\n",
    "$$\n",
    "\n",
    "With a 4-lead Hall bar we need to create a new device with electrodes 2 and 3 on the same side of the Hall bar. \n",
    "\n",
    "*If the energy mesh in TBTrans and the mesh for magnetic field strength are fine engough, spikes in $R_L$ should be observable at each step of $R_H$.*"
   ]
  },
  {
   "cell_type": "code",
   "execution_count": 11,
   "metadata": {},
   "outputs": [],
   "source": [
    "# Create short-hand function\n",
    "gs = sisl.get_sile\n",
    "# No magnetic field\n",
    "tbt0 = gs('M_0/siesta.TBT.nc')\n",
    "E = tbt0.E\n",
    "# All magnetic fields in increasing order\n",
    "tbts = [gs('M_{}/siesta.TBT.nc'.format(rec_phi)) for rec_phi in rec_phis]"
   ]
  },
  {
   "cell_type": "code",
   "execution_count": 12,
   "metadata": {},
   "outputs": [],
   "source": [
    "def calc_G(tbtsile, n):\n",
    "    # Construct G    \n",
    "    G = np.zeros((tbtsile.nE, n, n))\n",
    "    for i in range(n):\n",
    "        for j in range(n):\n",
    "            if i == j: continue\n",
    "            Gij = tbtsile.transmission(i,j)\n",
    "            G[:,i,j] = -Gij\n",
    "            G[:,i,i] += Gij\n",
    "    return G\n",
    "\n",
    "# Number of electrodes used in the Hall bar\n",
    "nEl = 6\n",
    "\n",
    "# Calculate Conductance matrix G\n",
    "G = np.asarray([calc_G(tbt, nEl) for tbt in tbts])\n",
    "\n",
    "# Remove one row and column from the matrix\n",
    "referenceElectrode = 3\n",
    "G = np.delete(np.delete(G, referenceElectrode, axis=2), referenceElectrode, axis=3)\n",
    "\n",
    "# Invert G to get resistance matrix R\n",
    "# Hint: If the matrix inversion might fails for some values of rec_phi, the magentic field is too strong.\n",
    "R = np.linalg.inv(G)\n",
    "\n",
    "if nEl == 6:\n",
    "    # For 6-lead device \n",
    "    RH = R[:,:,1,0] - R[:,:,4,0]   # R_21 - R_61\n",
    "    RL = R[:,:,1,0] - R[:,:,2,0]   # R_21 - R_31\n",
    "elif nEl == 4:\n",
    "    # For 4-lead device\n",
    "    RH = R[:,:,1,0] - R[:,:,2,0]   # R_21 - R_31"
   ]
  },
  {
   "cell_type": "code",
   "execution_count": 13,
   "metadata": {},
   "outputs": [
    {
     "data": {
      "image/png": "[encoded data removed]",
      "text/plain": [
       "<Figure size 864x288 with 2 Axes>"
      ]
     },
     "metadata": {
      "needs_background": "light"
     },
     "output_type": "display_data"
    }
   ],
   "source": [
    "# Plot the results\n",
    "E_idx = 630\n",
    "phi_idx = 40\n",
    "# plt.rcParams.update({'font.size':20})\n",
    "fig, axs = plt.subplots(1,2, sharey=True, figsize=(12,4))\n",
    "axs[0].set_title('$\\phi = {:.5f}$'.format(1/rec_phis[phi_idx]))\n",
    "axs[0].plot(E, RH[phi_idx,:], '.-', label='$R_{H}$')\n",
    "axs[0].plot(E, RL[phi_idx,:], '.-', label='$R_{L}$')\n",
    "axs[0].axvline(x=E[E_idx], ls='--', c='k')\n",
    "axs[0].set_ylim(0,1.2)\n",
    "axs[0].set_xlim(0.1,0.9)\n",
    "axs[1].set_title(f'E = {E[E_idx]:.5f}')\n",
    "axs[1].axvline(x=1/rec_phis[phi_idx], ls='--', c='k')\n",
    "axs[1].plot(1/rec_phis, RH[:,E_idx], '.-', label='$R_{H}$')\n",
    "axs[1].plot(1/rec_phis, RL[:,E_idx], '.-', label='$R_{L}$')\n",
    "\n",
    "# secax = axs[1].secondary_yaxis('right')#, functions=(lambda y: 0.1*y, lambda y: 10*y))\n",
    "\n",
    "axs[0].set_ylabel(r'$R_H \\left[h/2e^2\\right]$')\n",
    "axs[0].set_xlabel('$E/t$')\n",
    "axs[1].set_xlabel('$\\phi/\\phi_0$')\n",
    "# secax.set_ylabel(r'$R_L \\left[h/2e^2\\right]$')\n",
    "\n",
    "axs[1].legend()\n",
    "plt.show()"
   ]
  },
  {
   "cell_type": "markdown",
   "metadata": {},
   "source": []
  },
  {
   "cell_type": "code",
   "execution_count": null,
   "metadata": {},
   "outputs": [],
   "source": []
  }
 ],
 "metadata": {
  "kernelspec": {
   "display_name": "Python 3",
   "language": "python",
   "name": "python3"
  },
  "language_info": {
   "codemirror_mode": {
    "name": "ipython",
    "version": 3
   },
   "file_extension": ".py",
   "mimetype": "text/x-python",
   "name": "python",
   "nbconvert_exporter": "python",
   "pygments_lexer": "ipython3",
   "version": "3.8.5"
  }
 },
 "nbformat": 4,
 "nbformat_minor": 2
}
