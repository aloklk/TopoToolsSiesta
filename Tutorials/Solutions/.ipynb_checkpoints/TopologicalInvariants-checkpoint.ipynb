{
 "cells": [
  {
   "cell_type": "code",
   "execution_count": 1,
   "metadata": {},
   "outputs": [],
   "source": [
    "import numpy as np\n",
    "import sisl\n",
    "import z2pack"
   ]
  },
  {
   "cell_type": "markdown",
   "metadata": {},
   "source": [
    "# Calculating the $\\mathbb{Z}_2$ invariant \n",
    "In this excercise we will use Z2Pack to calculate the $\\mathbb{Z}_2$ topological invariant of the monolayer bismuth structure from the last excercise. \n",
    "\n",
    "## Introduction\n",
    "\n",
    "### Hybrid Wannier Charge centres\n",
    "\n",
    "Z2Pack uses hybrid Wannier charge centres (HWCC) to calculate topological invariants. Hybrid Wannier function (HWF) are defined similary to Wannier function (WF). However, they are only localized in one direction and delocalized in the others. \n",
    "\n",
    "\\begin{align}\n",
    "|(R_x,k_y), n\\rangle = \\frac{1}{2\\pi}\\int\\mathrm{d}k_x\\; e^{i k_x R_x}|\\psi_{n,\\mathbf{k}}\\rangle\n",
    "\\end{align}\n",
    "\n",
    "The charge centre of an HWF is defined as the average position of the function in the localized direction. They defined only modulo the lattice vector $a_x$.\n",
    "\n",
    "\\begin{align}\n",
    "\\bar x_n(k_y) = \\langle (R_x,k_y), n | \\hat{x} | (R_x,k_y), n\\rangle\n",
    "\\end{align}\n",
    "\n",
    "One can think of an HWCC as the charge center of a Wannier function in a 1D system, which is coupled to an external parameter $k_y$. In this interpretation, the sum of all HWCCs is directly linked to the 1D electronic polarization\n",
    "\\begin{align}\n",
    "\\mathbf{P}^h_e(k_y) = e \\sum_n \\bar x_n(k_y)\n",
    "\\end{align}\n",
    "It should be noted that individual HWCCs are not gauge invariant. The sum of all HWCCs and $\\mathbf{P}^h_e(k_y)$ are gauge invariant. \n",
    "\n",
    "### From HWCC to topological invariants\n",
    "#### Chern number\n",
    "\n",
    "Since the HWCCs are defined only modulo the lattice vector $R_x$, we can assume periodic boundary conditions $\\bar x(k_y) = \\bar x(k_y) + a_x$. This way $\\bar x(k_y)$ can be mapped on a point on the unit circle for any given $k_y$. As $k_y$ goes from 0 to $2\\pi$ the HWCCs and $P^h_e$ describe trajectories on a cylinder. The winding number of the trajectory of $P^h_e$ gives the Chern number of the system. \n",
    "\n",
    "<img src=\"img/FIG_2_Gresch_PhyRevB95_075146_2017.png\" alt=\"Sketch of some possible evolutions of $P^h_e$\" style=\"width: 400px;\"/>\n",
    "\n",
    "A Chern number can also be uniquely associated with any set of **isolated bands** and corresponds to the number of windings of the polarization of the subset of states. The Chern number of the whole system is equal to sum of the individual Chern numbers.\n",
    "\n",
    "#### Time-reversal invariance and the $\\mathbb{Z}_2$-invariant\n",
    "\n",
    "Under time-reversal symmetry the Hilberterspace of occupied states can be split into two subspaces which are mapped on to each other by time-reversal. This splits all Kramer pairs into states which are assigned different subspaces. The Chern number $C_1$, $C_2$ of the subspaces are not uniquely defined and depend on which states are assigned to which subspace. However, as a consequence of the Chern number being odd under time-reversal, the two Chern numbers are always opposits $C_1=-C_2$. I.e. the Chern number of the full system is always 0.\n",
    "\n",
    "Further, the two states forming a Kramer pair have to carry oppoiste Chern numbers. Hence, if the states exchange subspaces, the two Chern numbers can only change by an even number. I.e. the $\\mathbb{Z}_2$ invariant\n",
    "\\begin{align}\n",
    "\\mathbb{Z}_2 = (C_1 - C_2)/2 (\\textrm{mod} 2)\n",
    "\\end{align}\n",
    "is well defined.\n",
    "\n",
    "Geometrically the $\\mathbb{Z}_2$ invariant is related to the number of times L any line $f(k_y)$ intersects the trajectory of HWCCs on the interval $[0,2\\pi]$. \n",
    "\n",
    "<img src=\"img/FIG_5_Gresch_PhyRevB95_075146_2017.png\" alt=\"Sketch of some possible evolutions of $P^h_e$\" style=\"width: 400px;\"/>\n",
    "\n",
    "Note: In Z2Pack $f(k_y)$ is defined as the middle of the largest gap between two neighbhouring HWCCs. This choice is favorable for numerical stability.\n",
    "\n",
    "_References for content and images:_\n",
    "1. Dominik Gresch et al., Phys. Rev. B **95**, 075146 (2017), \"Z2Pack: Numerical implementation of hybrid Wannier centers for identifying topological materials\", doi: [10.1103/PhysRevB.95.075146](https://doi.org/10.1103/PhysRevB.95.075146)"
   ]
  },
  {
   "cell_type": "markdown",
   "metadata": {},
   "source": [
    "## Hands-on tutorial\n",
    "\n",
    "In order to run Z2Pack we need to provide information about the Hamiltonian, overlap and the orbital positions.\n",
    "We start off by reading the geometry and hamiltonian from siesta output."
   ]
  },
  {
   "cell_type": "code",
   "execution_count": 2,
   "metadata": {},
   "outputs": [],
   "source": [
    "sile = sisl.get_sile('Siesta/Bi2D_BHex.fdf')\n",
    "geom = sile.read_geometry()\n",
    "H = sile.read_hamiltonian(geometry=geom)"
   ]
  },
  {
   "cell_type": "markdown",
   "metadata": {},
   "source": [
    "We will create a ``hm`` system in Z2Pack ([doc](http://z2pack.ethz.ch/doc/2.1/reference/hm.html)). This interface expects two functions: one returning the Hamiltonian matrix and one the overlap matrix for any given k-vector.\n"
   ]
  },
  {
   "cell_type": "code",
   "execution_count": 3,
   "metadata": {},
   "outputs": [],
   "source": [
    "Hk = lambda k: H.Hk(k=k, dtype=np.complex64, format='array')\n",
    "Sk = lambda k: H.Sk(k=k, dtype=np.complex64, format='array')"
   ]
  },
  {
   "cell_type": "markdown",
   "metadata": {},
   "source": [
    "Next, we need the positions of all orbitals in fractional coordinates. Note, that the matrix elements are ordered in 2x2 blocks corresponding to spin-up and spin-down version of the same basis orbital. So we need to create a list of positions with the same order."
   ]
  },
  {
   "cell_type": "code",
   "execution_count": 4,
   "metadata": {},
   "outputs": [],
   "source": [
    "pos = geom.fxyz[list(map(geom.o2a, np.arange(H.no)))]\n",
    "pos = np.repeat(pos, 2, axis=0)"
   ]
  },
  {
   "cell_type": "markdown",
   "metadata": {},
   "source": [
    "Now, we can create the system in Z2Pack. For now, we will only look at the two highest occupied bands. They are degenearte (Kramer degeneracy) and isolated from the rest of the occupied bands, which allows us to uniquely associate a $\\mathbb{Z}_2$ invariant with this pair.\n"
   ]
  },
  {
   "cell_type": "code",
   "execution_count": 5,
   "metadata": {},
   "outputs": [],
   "source": [
    "system_hocc = z2pack.hm.System(\n",
    "        hamilton=Hk,\n",
    "        hermitian_tol=1e-5,\n",
    "        overlap=Sk,\n",
    "        pos=pos,\n",
    "        bands=[28,29],\n",
    ")"
   ]
  },
  {
   "cell_type": "markdown",
   "metadata": {},
   "source": [
    "### Running a HWCC calculation\n",
    "In order to get the $\\mathbb{Z}_2$ invariant, we need to specify \n",
    "1. in which direction the trajectories of the HWF should be evaluated and\n",
    "2. in which direction the integral, which gives the HWFs, should be performed.\n",
    "\n",
    "This defines a surface in k-space, which is periodic in one direction and covers half of the BZ in the other. To pass this information to Z2Pack, \n",
    "we need to define a function $S$ that is periodic in the second argument and covers half a period in the second argument. The domain is always $[0,1]^2$ and the function has to map onto vectors in reciprocal space (in fractional coordinates).\n",
    "\\begin{align}\n",
    "&S: [0,1]^2 \\rightarrow \\mathbb{R}^3 \\\\\n",
    "&S(s,1) = S(s,0) + \\mathbf{G} \\\\\n",
    "&S(1,t) = S(0,t) + \\frac{1}{2}\\mathbf{G}'\n",
    "\\end{align}\n",
    "\n",
    "In our example we want to calculate the HWCCs along $k_x$ and trace the evolutions for $k_y$ from $0$ to $\\pi$.\n",
    "\\begin{align}\n",
    "&S(s,1) = S(s, 0) + (1, 0, 0) \\\\\n",
    "&S(1,t) = S(0,t) + (0, 0.5, 0)\n",
    "\\end{align}"
   ]
  },
  {
   "cell_type": "code",
   "execution_count": 6,
   "metadata": {},
   "outputs": [],
   "source": [
    "surface=lambda s, t: [t, s/2, 0]"
   ]
  },
  {
   "cell_type": "markdown",
   "metadata": {},
   "source": [
    "There are three diffrent convergence criteria in Z2Pack:\n",
    "1. Positions of the HWCCs on a line: The code checks how much the positions of the HWCCs change as the as more k-points are used. The tolerance for this check is set by the flag ``pos_tol``. If the change is larger than the tolerance more k-points will be use. The numbers of k-point are controlled via the flag ``iterator``. \n",
    "2. Movement of the HWCCs between lines: The code checks how much the position of the HWCCs changes from one line to the next. The tolerance for this check is set by the flag ``move_tol``. If the check fails a new line is added in between. The initial number of lines is controlled via the flag ``num_lines`` and the lower limit for the distance between two line is controll via ``min_neighbour_dis``.\n",
    "3. Gap position: The code check how big the distance between the position of the gap and the position of HWCCs in neighbouring lines are. The tolerance for this check is set by the flag ``gap_tol``. If the check fails a new line is added in between. The initial number of lines is controlled via the flag ``num_lines`` and the lower limit for the distance between two line is controll via ``min_neighbour_dis``."
   ]
  },
  {
   "cell_type": "code",
   "execution_count": 7,
   "metadata": {},
   "outputs": [
    {
     "name": "stdout",
     "output_type": "stream",
     "text": [
      "\n",
      "+----------------------------------------------------------------------+\n",
      "|     \u001b[1m===================\u001b[m                                              |\n",
      "|     \u001b[1mSURFACE CALCULATION\u001b[m                                              |\n",
      "|     \u001b[1m===================\u001b[m                                              |\n",
      "|     starting at 2020-02-20 18:03:31,478                              |\n",
      "|     running Z2Pack version 2.1.1                                     |\n",
      "|                                                                      |\n",
      "|     gap_tol:            0.02                                         |\n",
      "|     init_result:        None                                         |\n",
      "|     iterator:           range(8, 27, 2)                              |\n",
      "|     load:               False                                        |\n",
      "|     load_quiet:         True                                         |\n",
      "|     min_neighbour_dist: 0.01                                         |\n",
      "|     move_tol:           0.3                                          |\n",
      "|     num_lines:          11                                           |\n",
      "|     pos_tol:            0.01                                         |\n",
      "|     save_file:          ./res_hocc.json                              |\n",
      "|     serializer:         auto                                         |\n",
      "|     surface:            <function <lambda> at 0x10df44d08>           |\n",
      "|     system:             <z2pack.hm.System object at 0x10df4e6d8>     |\n",
      "+----------------------------------------------------------------------+\n",
      "\n",
      "INFO: Adding lines required by 'num_lines'.\n",
      "INFO: Adding line at t = 0.0\n",
      "INFO:       Calculating line for N = 8\n",
      "INFO:       Calculating line for N = 10\n",
      "INFO: Adding line at t = 0.1\n",
      "INFO:       Calculating line for N = 8\n",
      "INFO:       Calculating line for N = 10\n",
      "INFO:       Calculating line for N = 12\n",
      "INFO: Adding line at t = 0.2\n",
      "INFO:       Calculating line for N = 8\n",
      "INFO:       Calculating line for N = 10\n",
      "INFO:       Calculating line for N = 12\n",
      "INFO:       Calculating line for N = 14\n",
      "INFO: Adding line at t = 0.30000000000000004\n",
      "INFO:       Calculating line for N = 8\n",
      "INFO:       Calculating line for N = 10\n",
      "INFO: Adding line at t = 0.4\n",
      "INFO:       Calculating line for N = 8\n",
      "INFO:       Calculating line for N = 10\n",
      "INFO: Adding line at t = 0.5\n",
      "INFO:       Calculating line for N = 8\n",
      "INFO:       Calculating line for N = 10\n",
      "INFO: Adding line at t = 0.6000000000000001\n",
      "INFO:       Calculating line for N = 8\n",
      "INFO:       Calculating line for N = 10\n",
      "INFO: Adding line at t = 0.7000000000000001\n",
      "INFO:       Calculating line for N = 8\n",
      "INFO:       Calculating line for N = 10\n",
      "INFO: Adding line at t = 0.8\n",
      "INFO:       Calculating line for N = 8\n",
      "INFO:       Calculating line for N = 10\n",
      "INFO: Adding line at t = 0.9\n",
      "INFO:       Calculating line for N = 8\n",
      "INFO:       Calculating line for N = 10\n",
      "INFO: Adding line at t = 1.0\n",
      "INFO:       Calculating line for N = 8\n",
      "INFO:       Calculating line for N = 10\n",
      "INFO: Convergence criteria fulfilled for 9 of 10 neighbouring lines.\n",
      "INFO: Adding line at t = 0.05\n",
      "INFO:       Calculating line for N = 8\n",
      "INFO:       Calculating line for N = 10\n",
      "INFO: Convergence criteria fulfilled for 10 of 11 neighbouring lines.\n",
      "INFO: Adding line at t = 0.07500000000000001\n",
      "INFO:       Calculating line for N = 8\n",
      "INFO:       Calculating line for N = 10\n",
      "INFO: Saving surface result to file ./res_hocc.json (ASYNC)\n",
      "INFO: Convergence criteria fulfilled for 11 of 12 neighbouring lines.\n",
      "INFO: Adding line at t = 0.08750000000000001\n",
      "INFO:       Calculating line for N = 8\n",
      "INFO:       Calculating line for N = 10\n",
      "INFO: Saving surface result to file ./res_hocc.json (ASYNC)\n",
      "INFO:       Calculating line for N = 12\n",
      "INFO: Convergence criteria fulfilled for 13 of 13 neighbouring lines.\n",
      "INFO: Saving surface result to file ./res_hocc.json (ASYNC)\n",
      "\n",
      "+----------------------------------------------------------------------+\n",
      "|                   Calculation finished in 0h 0m 2s                   |\n",
      "+----------------------------------------------------------------------+\n",
      "\n",
      "+----------------------------------------------------------------------+\n",
      "|                         \u001b[1m==================\u001b[m                           |\n",
      "|                         \u001b[1mCONVERGENCE REPORT\u001b[m                           |\n",
      "|                         \u001b[1m==================\u001b[m                           |\n",
      "|                                                                      |\n",
      "|                         Line Convergence                             |\n",
      "|                         ================                             |\n",
      "|                                                                      |\n",
      "|                             PosCheck                                 |\n",
      "|                             --------                                 |\n",
      "|                             \u001b[1m\u001b[32mPASSED: 14 of 14\u001b[m                         |\n",
      "|                                                                      |\n",
      "|                         Surface Convergence                          |\n",
      "|                         ===================                          |\n",
      "|                                                                      |\n",
      "|                             GapCheck                                 |\n",
      "|                             --------                                 |\n",
      "|                             \u001b[1m\u001b[32mPASSED: 13 of 13\u001b[m                         |\n",
      "|                                                                      |\n",
      "|                             MoveCheck                                |\n",
      "|                             ---------                                |\n",
      "|                             \u001b[1m\u001b[32mPASSED: 13 of 13\u001b[m                         |\n",
      "+----------------------------------------------------------------------+\n",
      "\n"
     ]
    }
   ],
   "source": [
    "# Run the WCC calculations\n",
    "settings = {'num_lines': 11,\n",
    "            'pos_tol': 1e-2,\n",
    "            'gap_tol': 2e-2,\n",
    "            'move_tol': 0.3,\n",
    "            'iterator': range(8, 27, 2),\n",
    "            'min_neighbour_dist': 1e-2,\n",
    "            'load': False,\n",
    "}\n",
    "\n",
    "result_hocc = z2pack.surface.run(\n",
    "    system=system_hocc,\n",
    "    surface=surface,\n",
    "    save_file='./res_hocc.json',\n",
    "    **settings\n",
    ")"
   ]
  },
  {
   "cell_type": "code",
   "execution_count": 8,
   "metadata": {},
   "outputs": [
    {
     "name": "stdout",
     "output_type": "stream",
     "text": [
      "Z2 invariant of the two highest, occupied bands: 1\n"
     ]
    }
   ],
   "source": [
    "print(\"Z2 invariant of the two highest, occupied bands: {}\".format(z2pack.invariant.z2(result_hocc)))"
   ]
  },
  {
   "cell_type": "markdown",
   "metadata": {},
   "source": [
    "We can visualize the HWCCs and the gap position:"
   ]
  },
  {
   "cell_type": "code",
   "execution_count": 9,
   "metadata": {},
   "outputs": [
    {
     "data": {
      "image/png": "[encoded data removed]",
      "text/plain": [
       "<Figure size 576x360 with 1 Axes>"
      ]
     },
     "metadata": {
      "needs_background": "light"
     },
     "output_type": "display_data"
    }
   ],
   "source": [
    "import matplotlib.pyplot as plt\n",
    "%matplotlib inline\n",
    "\n",
    "fig, ax = plt.subplots(1, 1, figsize=(8,5))\n",
    "wcc_settings={'s': 50., 'lw': 1., 'facecolor': 'none', 'edgecolors': 'k', 'label':'HWCC'}\n",
    "gap_settings={'marker': 'D', 'color': 'b', 'linestyle': '--', 'label':'Gap position'}\n",
    "\n",
    "z2pack.plot.wcc(result_hocc, axis=ax, wcc_settings=wcc_settings, gap_settings=gap_settings)\n",
    "ax.set_title('Bands 29, 30', fontsize=14)\n",
    "ax.set_ylabel(r'$\\bar{x} [a_x]$', fontsize=14)\n",
    "ax.set_xlabel(r'$k_y [\\pi/a_y]$', fontsize=14)\n",
    "handles, labels = fig.gca().get_legend_handles_labels()\n",
    "by_label = dict(zip(labels, handles))\n",
    "fig.legend(by_label.values(), by_label.keys())\n",
    "plt.show()"
   ]
  },
  {
   "cell_type": "markdown",
   "metadata": {},
   "source": [
    "## Exercises\n",
    "1. To get a feeling for the different options, you should play with them. Use a small number of lines and try different combinations of parameters. Even if the calculations did not converge, you can plot the HWCCs. This allows you to see why a certain check failed.\n",
    "\n",
    "2. Calculate the invariance for the whole system. You can either look at the invariants for each pair of bands or try to treat multiple ones at the same time. You can go back to the last exercise to have another look at the band structure.\n",
    "\n",
    "_Hint: Running a calculation with all 30 bands, might be tricky to converge._"
   ]
  },
  {
   "cell_type": "code",
   "execution_count": null,
   "metadata": {},
   "outputs": [],
   "source": []
  }
 ],
 "metadata": {
  "kernelspec": {
   "display_name": "Python 3",
   "language": "python",
   "name": "python3"
  },
  "language_info": {
   "codemirror_mode": {
    "name": "ipython",
    "version": 3
   },
   "file_extension": ".py",
   "mimetype": "text/x-python",
   "name": "python",
   "nbconvert_exporter": "python",
   "pygments_lexer": "ipython3",
   "version": "3.7.0"
  }
 },
 "nbformat": 4,
 "nbformat_minor": 2
}
