{
 "cells": [
  {
   "cell_type": "code",
   "execution_count": null,
   "metadata": {
    "scrolled": true
   },
   "outputs": [],
   "source": [
    "import sisl\n",
    "import numpy as np\n",
    "import matplotlib.pyplot as plt\n",
    "from matplotlib.collections import LineCollection\n",
    "%matplotlib inline"
   ]
  },
  {
   "cell_type": "markdown",
   "metadata": {},
   "source": [
    "# TI-01 Spin Texture \n",
    "In this exercise, we learn how to calculate and plot spin-textures using ```sisl``` and ```SIESTA```, at the example of bismuthene.\n",
    "\n",
    "## Exercise Overview\n",
    "1. Create bismuthene geometry.\n",
    "2. Generate ```SIESTA``` Hamiltonian.\n",
    "3. Calculate the band structure.\n",
    "4. Calculate the spin texture.\n",
    "\n",
    "## Exercise\n",
    "\n",
    "#### 1. Create the geometry in ``sisl`` and save it.\n",
    "We will consider bismuthene in a buckled hexagonal phase. This crystal structure is similar to that of graphene. However, the two sublattices form two parallel planes, separated by the buckling height $h$.\n",
    "We will use an in-plane lattice constant $a$ of $4.60\\mathring{\\textrm{A}}$ and buckling height $h$ of $1.62\\mathring{\\textrm{A}}$. The lattice constant for the orthogonal direction $c$ can be large, e.g. $40\\mathring{\\textrm{A}}$.\n",
    "\n",
    "|Top view |Side View |\n",
    "|:--------|:---------|\n",
    "|<img src=\"img/Bi2D-BHex-c.png\" alt=\"BHex-c\" style=\"width: 400px;\"/>|<img src=\"img/Bi2D-BHex-a.png\" alt=\"BHex-a\" style=\"width: 400px;\"/>|"
   ]
  },
  {
   "cell_type": "code",
   "execution_count": null,
   "metadata": {
    "scrolled": true
   },
   "outputs": [],
   "source": [
    "# Define lattice vectors and atomic positions\n",
    "# geom = sisl.Geometry(atomic_positions, lattice_vectors, atomic_species)\n",
    "geom.write('STRUC.fdf')"
   ]
  },
  {
   "cell_type": "markdown",
   "metadata": {},
   "source": [
    "#### 2. Generate SIESTA Hamiltonian\n",
    "A sample input file for ```SIESTA``` can be found in the *siesta_work* folder. If there are any unfamiliar flags in the input file, the manual (/Docs/siesta.pdf) can offer explanations. For the next steps the ```SIESTA``` Hamiltonian is required. So, we have to make sure that ```SIESTA``` will store it (SaveHS True or TS.HS.Save True). \n",
    "```\n",
    "    siesta Bi2D_BHex.fdf > Bi2D_BHex.out\n",
    "```\n",
    "Check the output file to ensure that the calculation converged and no errors occured."
   ]
  },
  {
   "cell_type": "markdown",
   "metadata": {},
   "source": [
    "#### 3 Bandstructure\n",
    "\n",
    "Use ```sisl``` to calculate the band structure along the $M$-$\\Gamma$-$K$-$M$ path, using the ```SIESTA``` Hamiltonian (Bi2D_BHex.HSX). If necessary, [seeK-path](https://www.materialscloud.org/work/tools/seekpath) can help finding the right k-point path in the Brillouin Zone.\n",
    "\n",
    "*Note: seeK-path uses a standartized unit cell. The displayed k-points refer to the reciprocal cell corresponding to this standartized cell not the original one.*"
   ]
  },
  {
   "cell_type": "code",
   "execution_count": null,
   "metadata": {
    "scrolled": true
   },
   "outputs": [],
   "source": [
    "# Read the Hamiltonian from siesta output and create sisl.BandStructure\n",
    "# sile = sisl.get_sile('path/to/*.fdf')\n",
    "# H = ...\n",
    "# EFermi = ...\n",
    "# kpath = sisl.BandStructure(...)"
   ]
  },
  {
   "cell_type": "code",
   "execution_count": null,
   "metadata": {
    "scrolled": true
   },
   "outputs": [],
   "source": [
    "# Calculate the bands\n",
    "# bands = ..."
   ]
  },
  {
   "cell_type": "code",
   "execution_count": null,
   "metadata": {
    "scrolled": true
   },
   "outputs": [],
   "source": [
    "# Plot the band structure\n",
    "# Feel free to re-use code from previous exercises"
   ]
  },
  {
   "cell_type": "markdown",
   "metadata": {},
   "source": [
    "#### 4 Spin Texture\n",
    "\n",
    "Calculate the spin texture, i.e. the spin moment of the eigenstates, along the same k-path as in 3.\n",
    "\n",
    "1. The spin moment for a given k-point can be calculated with sisl, using the ```spin_moments``` routine See [```sisl.physics.Hamiltonian.spin_moment```](http://zerothi.github.io/sisl/docs/latest/api-generated/sisl.physics.Hamiltonian.html?highlight=spin_moment#sisl.physics.Hamiltonian.spin_moment).\n",
    "```\n",
    ">>> H = Hamiltonian(...)\n",
    ">>> Sx, Sy, Sz = H.spin_moment().T\n",
    "```\n",
    "2. The ``sisl.BrillouinZone`` or ``sisl.BandStructure`` object can be used evaulate functions for all k-points. Using the ```call``` routine:\n",
    "```\n",
    ">>> H = Hamiltonian(...)\n",
    ">>> bz = BrillouinZone(H)\n",
    ">>> bz.eigh() == bz.call(H.eigh)\n",
    "```"
   ]
  },
  {
   "cell_type": "code",
   "execution_count": null,
   "metadata": {
    "scrolled": true
   },
   "outputs": [],
   "source": [
    "# Calculate the spin moments for all eigenstates along the k-path.\n",
    "# spin_moments = "
   ]
  },
  {
   "cell_type": "markdown",
   "metadata": {},
   "source": [
    "A convient way to visualize the spin texture is coloring the bands according to the spin moment. The template below can be used to plot the spin texture. \n",
    "\n",
    "_For reference on how to create multi coloured lines refer to the matplotlib [documentation](https://matplotlib.org/3.1.1/gallery/lines_bars_and_markers/multicolored_line.html)._"
   ]
  },
  {
   "cell_type": "code",
   "execution_count": null,
   "metadata": {
    "scrolled": true
   },
   "outputs": [],
   "source": [
    "def plot_spin_texture(kpath, bands, spin_moments):    \n",
    "    lk = kpath.lineark()\n",
    "    xtick, xtick_label = kpath.lineartick()    \n",
    "    nk, nbands = bands.shape\n",
    "    \n",
    "    # Create a figure with three subplot one for each component of the spin moment\n",
    "    fig, axes = plt.subplots(1, 3, figsize=(16, 9), dpi=300, sharex=True, sharey=True)\n",
    "\n",
    "    # Set the range of z-values, which will determine the color.\n",
    "    norm = plt.Normalize(-1, 1)\n",
    "\n",
    "    # Iterate of the spin components\n",
    "    for icomp, component in enumerate(['$S_x$', '$S_y$', '$S_z$']):\n",
    "        # Iterate over all bands \n",
    "        for ibnd in range(nbands):\n",
    "            # It is not possible to change the color of a line directly, so we create small \n",
    "            # line segements from one point on the x-axis to the next. These segments can \n",
    "            # then be colored individually.\n",
    "            points = np.array([lk, bands[:, ibnd]]).T.reshape(-1, 1, 2)\n",
    "            segments = np.concatenate([points[:-1], points[1:]], axis=1)\n",
    "            # Create a collection of the segments and specify a map that assigns colors \n",
    "            # to the segments according to the z-value\n",
    "            lc = LineCollection(segments, cmap='coolwarm', norm=norm)\n",
    "            # Set the z-values \n",
    "            lc.set_array(spin_moments[icomp])             \n",
    "            lc.set_linewidth(3)\n",
    "\n",
    "            # Add the LineCollection to the subplot\n",
    "            line = axes[icomp].add_collection(lc)\n",
    "            \n",
    "        axes[icomp].set_title(component)\n",
    "\n",
    "    # All subplots share the same axis settings, so we can just adjust them once     \n",
    "    ymin, ymax = (-2, 2)\n",
    "    axes[0].set_xlim(min(lk), max(lk))\n",
    "    axes[0].set_ylim(ymin, ymax) \n",
    "    axes[0].set_ylabel('Eigenspectrum [eV]')\n",
    "    axes[0].xaxis.set_ticks(xtick)\n",
    "    axes[0].set_xticklabels(xtick_label)\n",
    "\n",
    "    for axis in axes:\n",
    "        for tick in xtick:\n",
    "            axis.plot([tick, tick], [ymin, ymax], 'k', linewidth=0.5)\n",
    "    \n",
    "    # Add a colorbar to the plot\n",
    "    fig.colorbar(line, ax=axes.ravel().tolist())\n",
    "    plt.show()"
   ]
  },
  {
   "cell_type": "code",
   "execution_count": null,
   "metadata": {},
   "outputs": [],
   "source": [
    "# Use the function above to plot the spin-texture\n",
    "# plot_spin_texture(...)"
   ]
  },
  {
   "cell_type": "markdown",
   "metadata": {},
   "source": [
    "What happens when every other band is plotted, instead of all of them at the same time? Why?"
   ]
  },
  {
   "cell_type": "code",
   "execution_count": null,
   "metadata": {
    "scrolled": true
   },
   "outputs": [],
   "source": []
  }
 ],
 "metadata": {
  "kernelspec": {
   "display_name": "Python 3",
   "language": "python",
   "name": "python3"
  },
  "language_info": {
   "codemirror_mode": {
    "name": "ipython",
    "version": 3
   },
   "file_extension": ".py",
   "mimetype": "text/x-python",
   "name": "python",
   "nbconvert_exporter": "python",
   "pygments_lexer": "ipython3",
   "version": "3.7.6"
  }
 },
 "nbformat": 4,
 "nbformat_minor": 2
}
