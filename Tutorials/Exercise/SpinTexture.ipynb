{
 "cells": [
  {
   "cell_type": "code",
   "execution_count": 1,
   "metadata": {},
   "outputs": [],
   "source": [
    "import sisl\n",
    "import numpy as np\n",
    "import matplotlib.pyplot as plt\n",
    "from matplotlib.collections import LineCollection\n",
    "%matplotlib inline"
   ]
  },
  {
   "cell_type": "markdown",
   "metadata": {},
   "source": [
    "In this exercise we learn how to study topological properties of bismuthene, a bismuth monolayer in a buckled hexagonal phase (Bi(111)).\n",
    "\n",
    "## Exercise Overview\n",
    "1. Create bismuthene geometry.\n",
    "\n",
    "2. Generate SIESTA Hamiltonian. \n",
    "\n",
    "3. Calculate the band structure. \n",
    "\n",
    "4. Calculate the spin texture.\n",
    "\n",
    "## Exercise\n",
    "\n",
    "#### 1. Create the geometry in ``sisl`` and save it.\n",
    "\n",
    "Hint: The buckled hexagonal crystal structure is similar to the structure of graphene. However, the atoms do not lie in the same plane.\n",
    "You can use in plane lattice constant $a=4.60\\mathring{\\textrm{A}}$ and buckling height  $h= 1.62\\mathring{\\textrm{A}}$. The lattice constant for the orthogonal direction can be large, e.g. $40\\mathring{\\textrm{A}}$.\n",
    "\n",
    "|Top view |Side View |\n",
    "|:--------|:---------|\n",
    "|<img src=\"img/Bi2D-BHex-c.png\" alt=\"BHex-c\" style=\"width: 400px;\"/>|<img src=\"img/Bi2D-BHex-a.png\" alt=\"BHex-a\" style=\"width: 400px;\"/>|\n",
    "\n"
   ]
  },
  {
   "cell_type": "code",
   "execution_count": 2,
   "metadata": {},
   "outputs": [
    {
     "ename": "NameError",
     "evalue": "name 'geom' is not defined",
     "output_type": "error",
     "traceback": [
      "\u001b[0;31m---------------------------------------------------------------------------\u001b[0m",
      "\u001b[0;31mNameError\u001b[0m                                 Traceback (most recent call last)",
      "\u001b[0;32m<ipython-input-2-d178cc47b455>\u001b[0m in \u001b[0;36m<module>\u001b[0;34m\u001b[0m\n\u001b[1;32m      1\u001b[0m \u001b[0;31m# Your code goes here\u001b[0m\u001b[0;34m\u001b[0m\u001b[0;34m\u001b[0m\u001b[0m\n\u001b[0;32m----> 2\u001b[0;31m \u001b[0mgeom\u001b[0m\u001b[0;34m.\u001b[0m\u001b[0mwrite\u001b[0m\u001b[0;34m(\u001b[0m\u001b[0;34m'STRUC.fdf'\u001b[0m\u001b[0;34m)\u001b[0m\u001b[0;34m\u001b[0m\u001b[0m\n\u001b[0m",
      "\u001b[0;31mNameError\u001b[0m: name 'geom' is not defined"
     ]
    }
   ],
   "source": [
    "# Your code goes here\n",
    "geom.write('STRUC.fdf')"
   ]
  },
  {
   "cell_type": "markdown",
   "metadata": {},
   "source": [
    "#### 2. Generate SIESTA Hamiltonian\n",
    "Run siesta. A sample input file can be found in the siesta_work folder. Go through the flags to make sure you are familiar with all of them, or refer to the manual (/Docs/siesta.pdf). Make sure that Siesta will save the Hamiltonian (SaveHS True). It is required for the next setps. \n",
    "```\n",
    "    siesta Bi2D_BHex.fdf > Bi2D_BHex.out\n",
    "```\n",
    "Check the output file. Make sure that the calculation converged and no error occured.\n"
   ]
  },
  {
   "cell_type": "markdown",
   "metadata": {},
   "source": [
    "#### 3 Bandstructure\n",
    "\n",
    "Use SISL to calculate the band structure long the M-$\\Gamma$-K-M path, using the SIESTA Hamiltonian (Bi2D_BHex.HSX). If you need  help finding the right k point path in the Brillouin Zone, you could use [seeK-path](https://www.materialscloud.org/work/tools/seekpath)."
   ]
  },
  {
   "cell_type": "code",
   "execution_count": null,
   "metadata": {},
   "outputs": [],
   "source": [
    "# Read the Hamiltonian from siesta output and create sisl.BandStructure\n",
    "# H =  \n",
    "# kpath = sisl.BandStructure(...)"
   ]
  },
  {
   "cell_type": "code",
   "execution_count": null,
   "metadata": {},
   "outputs": [],
   "source": [
    "# Calculate the bands"
   ]
  },
  {
   "cell_type": "code",
   "execution_count": null,
   "metadata": {},
   "outputs": [],
   "source": [
    "# Plot the band structure"
   ]
  },
  {
   "cell_type": "markdown",
   "metadata": {},
   "source": [
    "#### 4 Spin Texture\n",
    "\n",
    " i.e. the spin moment of the eigenstates, along the same k-path as in 3. EXPLAIN HERE HOW TO DO IT\n",
    "\n",
    "_Hint the ``sisl.BrillouinZone`` or ``sisl.BandStructure`` object can be used evaulate functions for all k-points._"
   ]
  },
  {
   "cell_type": "code",
   "execution_count": null,
   "metadata": {},
   "outputs": [],
   "source": [
    "# Calculate the spin moments for all eigenstates along the k-path."
   ]
  },
  {
   "cell_type": "markdown",
   "metadata": {},
   "source": [
    "A convient way to visualize the spin texture is coloring the bands according to the spin moment. \n",
    "You can use the template below to plot the spin texture. \n",
    "\n",
    "Explain what is the information to be provided, comment the python script....\n",
    "\n",
    "_For reference on how to create multi coloured lines you can see the matplotlib [documentation](https://matplotlib.org/3.1.1/gallery/lines_bars_and_markers/multicolored_line.html)._"
   ]
  },
  {
   "cell_type": "code",
   "execution_count": null,
   "metadata": {
    "scrolled": false
   },
   "outputs": [],
   "source": [
    "fig, axes = plt.subplots(1, 3, figsize=(16, 9), dpi=300, sharex=True, sharey=True)\n",
    "norm = plt.Normalize(-1, 1)\n",
    "ymin, ymax = (-2, 2)\n",
    "\n",
    "for icomp, component in enumerate(['$S_x$', '$S_y$', '$S_z$']):\n",
    "    for ibnd in range(<fill in>):\n",
    "        points = np.array([lk, bands[:, ibnd]]).T.reshape(-1, 1, 2)\n",
    "        segments = np.concatenate([points[:-1], points[1:]], axis=1)\n",
    "        lc = LineCollection(segments, cmap='coolwarm', norm=norm)\n",
    "        lc.set_array(<fill in>)\n",
    "        lc.set_linewidth(3)\n",
    "        line = axes[icomp].add_collection(lc)\n",
    "    axes[icomp].set_title(component)\n",
    "    \n",
    "# All subplots share the same axis settings, so we can just them once    \n",
    "axes[0].set_xlim(min(lk), max(lk))\n",
    "axes[0].set_ylim(ymin, ymax) \n",
    "axes[0].set_ylabel('Eigenspectrum [eV]')\n",
    "axes[0].xaxis.set_ticks(xtick)\n",
    "axes[0].set_xticklabels(xtick_label)\n",
    "    \n",
    "for axis in axes:\n",
    "    for tick in xtick:\n",
    "        axis.plot([tick, tick], [ymin, ymax], 'k', linewidth=0.5)\n",
    "\n",
    "fig.colorbar(line, ax=axes.ravel().tolist())\n",
    "plt.show()"
   ]
  },
  {
   "cell_type": "markdown",
   "metadata": {},
   "source": [
    "What do you notice when you plot every other band, instead of all of them at the same time? Why?"
   ]
  },
  {
   "cell_type": "code",
   "execution_count": null,
   "metadata": {},
   "outputs": [],
   "source": []
  }
 ],
 "metadata": {
  "kernelspec": {
   "display_name": "Python 3",
   "language": "python",
   "name": "python3"
  },
  "language_info": {
   "codemirror_mode": {
    "name": "ipython",
    "version": 3
   },
   "file_extension": ".py",
   "mimetype": "text/x-python",
   "name": "python",
   "nbconvert_exporter": "python",
   "pygments_lexer": "ipython3",
   "version": "3.7.0"
  }
 },
 "nbformat": 4,
 "nbformat_minor": 2
}
