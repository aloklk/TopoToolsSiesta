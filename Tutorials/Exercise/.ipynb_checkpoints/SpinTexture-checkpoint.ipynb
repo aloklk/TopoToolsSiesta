{
 "cells": [
  {
   "cell_type": "code",
   "execution_count": null,
   "metadata": {},
   "outputs": [],
   "source": [
    "import sisl\n",
    "import numpy as np\n",
    "import matplotlib.pyplot as plt\n",
    "from matplotlib.collections import LineCollection\n",
    "%matplotlib inline"
   ]
  },
  {
   "cell_type": "markdown",
   "metadata": {},
   "source": [
    "In this exercise we want to study some properties of a Bismuth monolayer in a buckled hexagonal phase (Bi(111)).\n",
    "\n",
    "## Exercise\n",
    "1. Create the geometry in ``sisl`` and save it.\n",
    "2. Run siesta. A sample input file can be found in the folder of this exercise. Go through the flags to make sure you are familiar with all of them. If not you can always refer to the manual. Make sure that Siesta will save the Hamiltonian. It is required for the next setps. \n",
    "```\n",
    "    siesta Bi2D_BHex.fdf > Bi2D_BHex.out\n",
    "```\n",
    "Check the output file. Make sure that the calculation converged and assert that no error have occured.\n",
    "\n",
    "3. Read the Hamiltonain from the output and calculate the band structure. If you need some help finding the right k-path, you could check [seeK-path](https://www.materialscloud.org/work/tools/seekpath) (SeeK-path is built for 3D systems. Keep in mind our system is 2D. So, not all points might be of interest.)\n",
    "4. Calculate the spin texture, i.e. the spin moment of the eigenstates, along the same k-path as in 3. You can find out how to do it in the ``sisl`` documentation. \n",
    "\n",
    "_Hint the ``sisl.BrillouinZone`` or ``sisl.BandStructure`` object can be used evaulate functions for all k-points._\n",
    "\n",
    "\n",
    "#### 1 Creating the geometry\n",
    "\n",
    "The buckled hexagonal crystal structure is similar to the structure of graphene. However, the atoms are not arange in one plane.\n",
    "\n",
    "|Top view |Side View |\n",
    "|:--------|:---------|\n",
    "|<img src=\"img/Bi2D-BHex-c.png\" alt=\"BHex-c\" style=\"width: 400px;\"/>|<img src=\"img/Bi2D-BHex-a.png\" alt=\"BHex-a\" style=\"width: 400px;\"/>|\n",
    "\n",
    "You can use the in plane lattice constant $a=4.60\\mathring{\\textrm{A}}$ and a buckling height of $1.62\\mathring{\\textrm{A}}$. The lattice constant for the orthogonal direction can be large, e.g. $40\\mathring{\\textrm{A}}$.\n"
   ]
  },
  {
   "cell_type": "code",
   "execution_count": null,
   "metadata": {},
   "outputs": [],
   "source": [
    "# Your code goes here\n",
    "geom.write('STRUC.fdf')"
   ]
  },
  {
   "cell_type": "markdown",
   "metadata": {},
   "source": [
    "#### 3 Bandstructure"
   ]
  },
  {
   "cell_type": "code",
   "execution_count": null,
   "metadata": {},
   "outputs": [],
   "source": [
    "# Read the Hamiltonian from siesta outputs and create sisl.BandStructure\n",
    "# H =  \n",
    "# kpath = sisl.BandStructure(...)"
   ]
  },
  {
   "cell_type": "code",
   "execution_count": null,
   "metadata": {},
   "outputs": [],
   "source": [
    "# Calculate the bands"
   ]
  },
  {
   "cell_type": "code",
   "execution_count": null,
   "metadata": {},
   "outputs": [],
   "source": [
    "# Plot the band structure"
   ]
  },
  {
   "cell_type": "markdown",
   "metadata": {},
   "source": [
    "#### 4 Spin Texture"
   ]
  },
  {
   "cell_type": "code",
   "execution_count": null,
   "metadata": {},
   "outputs": [],
   "source": [
    "# Calculate the spin moments for all eigenstates along the k-path."
   ]
  },
  {
   "cell_type": "markdown",
   "metadata": {},
   "source": [
    "A convient way to visualize the spin texture is coloring the bands according to the spin moment. \n",
    "You can use the template below to plot the spin texture. \n",
    "\n",
    "_For reference on how to create multi coloured lines you can see the matplotlib [documentation](https://matplotlib.org/3.1.1/gallery/lines_bars_and_markers/multicolored_line.html)._"
   ]
  },
  {
   "cell_type": "code",
   "execution_count": null,
   "metadata": {
    "scrolled": false
   },
   "outputs": [],
   "source": [
    "fig, axes = plt.subplots(1, 3, figsize=(16, 9), dpi=300, sharex=True, sharey=True)\n",
    "norm = plt.Normalize(-1, 1)\n",
    "ymin, ymax = (-2, 2)\n",
    "\n",
    "for icomp, component in enumerate(['$S_x$', '$S_y$', '$S_z$']):\n",
    "    for ibnd in range(<fill in>):\n",
    "        points = np.array([lk, bands[:, ibnd]]).T.reshape(-1, 1, 2)\n",
    "        segments = np.concatenate([points[:-1], points[1:]], axis=1)\n",
    "        lc = LineCollection(segments, cmap='coolwarm', norm=norm)\n",
    "        lc.set_array(<fill in>)\n",
    "        lc.set_linewidth(3)\n",
    "        line = axes[icomp].add_collection(lc)\n",
    "    axes[icomp].set_title(component)\n",
    "    \n",
    "# All subplots share the same axis settings, so we can just them once    \n",
    "axes[0].set_xlim(min(lk), max(lk))\n",
    "axes[0].set_ylim(ymin, ymax) \n",
    "axes[0].set_ylabel('Eigenspectrum [eV]')\n",
    "axes[0].xaxis.set_ticks(xtick)\n",
    "axes[0].set_xticklabels(xtick_label)\n",
    "    \n",
    "for axis in axes:\n",
    "    for tick in xtick:\n",
    "        axis.plot([tick, tick], [ymin, ymax], 'k', linewidth=0.5)\n",
    "\n",
    "fig.colorbar(line, ax=axes.ravel().tolist())\n",
    "plt.show()"
   ]
  },
  {
   "cell_type": "markdown",
   "metadata": {},
   "source": [
    "What do you notice when you plot every other band, instead of all of them at the same time? Why?"
   ]
  },
  {
   "cell_type": "code",
   "execution_count": null,
   "metadata": {},
   "outputs": [],
   "source": []
  }
 ],
 "metadata": {
  "kernelspec": {
   "display_name": "Python 3",
   "language": "python",
   "name": "python3"
  },
  "language_info": {
   "codemirror_mode": {
    "name": "ipython",
    "version": 3
   },
   "file_extension": ".py",
   "mimetype": "text/x-python",
   "name": "python",
   "nbconvert_exporter": "python",
   "pygments_lexer": "ipython3",
   "version": "3.7.6"
  }
 },
 "nbformat": 4,
 "nbformat_minor": 2
}
